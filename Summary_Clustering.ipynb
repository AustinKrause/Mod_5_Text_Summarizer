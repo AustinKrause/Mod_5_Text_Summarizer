{
 "cells": [
  {
   "cell_type": "code",
   "execution_count": 402,
   "metadata": {},
   "outputs": [
    {
     "name": "stderr",
     "output_type": "stream",
     "text": [
      "[nltk_data] Downloading package punkt to\n",
      "[nltk_data]     /Users/austinkrause/nltk_data...\n",
      "[nltk_data]   Unzipping tokenizers/punkt.zip.\n"
     ]
    },
    {
     "data": {
      "text/plain": [
       "True"
      ]
     },
     "execution_count": 402,
     "metadata": {},
     "output_type": "execute_result"
    }
   ],
   "source": [
    "from nltk import sent_tokenize, word_tokenize\n",
    "from nltk.corpus import stopwords\n",
    "from string import punctuation\n",
    "import numpy as np\n",
    "import pandas as pd\n",
    "import nltk\n",
    "import re\n",
    "import os\n",
    "import codecs\n",
    "from sklearn import feature_extraction\n",
    "import matplotlib.pyplot as plt\n",
    "%matplotlib inline\n",
    "from sklearn.metrics import pairwise_distances_argmin_min\n",
    "import nltk\n",
    "nltk.download('punkt')\n",
    "from sklearn.metrics.pairwise import cosine_similarity\n"
   ]
  },
  {
   "cell_type": "code",
   "execution_count": 421,
   "metadata": {},
   "outputs": [],
   "source": [
    "pd.options.display.max_columns = 1000"
   ]
  },
  {
   "cell_type": "markdown",
   "metadata": {},
   "source": [
    "<h3>Load in csv"
   ]
  },
  {
   "cell_type": "code",
   "execution_count": 25,
   "metadata": {},
   "outputs": [],
   "source": [
    "df = pd.read_csv('df_with_gensim_summaries.csv')"
   ]
  },
  {
   "cell_type": "code",
   "execution_count": 28,
   "metadata": {},
   "outputs": [],
   "source": [
    "#drop unnecessary columns\n",
    "df = df.drop(['Unnamed: 0', 'Unnamed: 0.1.1'], axis = 1)"
   ]
  },
  {
   "cell_type": "markdown",
   "metadata": {},
   "source": [
    "<h3>Preview of dataframe"
   ]
  },
  {
   "cell_type": "code",
   "execution_count": 33,
   "metadata": {},
   "outputs": [
    {
     "data": {
      "text/html": [
       "<div>\n",
       "<style scoped>\n",
       "    .dataframe tbody tr th:only-of-type {\n",
       "        vertical-align: middle;\n",
       "    }\n",
       "\n",
       "    .dataframe tbody tr th {\n",
       "        vertical-align: top;\n",
       "    }\n",
       "\n",
       "    .dataframe thead th {\n",
       "        text-align: right;\n",
       "    }\n",
       "</style>\n",
       "<table border=\"1\" class=\"dataframe\">\n",
       "  <thead>\n",
       "    <tr style=\"text-align: right;\">\n",
       "      <th></th>\n",
       "      <th>title</th>\n",
       "      <th>content</th>\n",
       "      <th>category</th>\n",
       "      <th>gensim_summary</th>\n",
       "      <th>first_100</th>\n",
       "      <th>sent_tokenized</th>\n",
       "    </tr>\n",
       "  </thead>\n",
       "  <tbody>\n",
       "    <tr>\n",
       "      <th>0</th>\n",
       "      <td>Agent Cooper in Twin Peaks is the audience: on...</td>\n",
       "      <td>And never more so than in Showtime’s new...</td>\n",
       "      <td>Longform</td>\n",
       "      <td>In the second season finale, back in 1991, the...</td>\n",
       "      <td>And never more so than in Showtime’s new serie...</td>\n",
       "      <td>['      And never more so than in Showtime’s n...</td>\n",
       "    </tr>\n",
       "    <tr>\n",
       "      <th>1</th>\n",
       "      <td>AI, the humanity!</td>\n",
       "      <td>AlphaGo’s victory isn’t a defeat for hum...</td>\n",
       "      <td>Longform</td>\n",
       "      <td>When speaking to DeepMind and Google developer...</td>\n",
       "      <td>AlphaGo’s victory isn’t a defeat for humans — ...</td>\n",
       "      <td>['      AlphaGo’s victory isn’t a defeat for h...</td>\n",
       "    </tr>\n",
       "    <tr>\n",
       "      <th>2</th>\n",
       "      <td>Massive attack</td>\n",
       "      <td>How a weapon against war became a weapon...</td>\n",
       "      <td>Longform</td>\n",
       "      <td>International visitors for the event are commo...</td>\n",
       "      <td>How a weapon against war became a weapon again...</td>\n",
       "      <td>['      How a weapon against war became a weap...</td>\n",
       "    </tr>\n",
       "    <tr>\n",
       "      <th>3</th>\n",
       "      <td>Brain drain</td>\n",
       "      <td>Genius quietly laid off a bunch of its e...</td>\n",
       "      <td>Longform</td>\n",
       "      <td>In a post on the Genius blog at the time, co-f...</td>\n",
       "      <td>Genius quietly laid off a bunch of its enginee...</td>\n",
       "      <td>['      Genius quietly laid off a bunch of its...</td>\n",
       "    </tr>\n",
       "    <tr>\n",
       "      <th>4</th>\n",
       "      <td>Facebook takes flight</td>\n",
       "      <td>Inside the test flight of Facebook’s fir...</td>\n",
       "      <td>Longform</td>\n",
       "      <td>But if your goal is to stay in the air for a l...</td>\n",
       "      <td>Inside the test flight of Facebook’s first int...</td>\n",
       "      <td>['      Inside the test flight of Facebook’s f...</td>\n",
       "    </tr>\n",
       "  </tbody>\n",
       "</table>\n",
       "</div>"
      ],
      "text/plain": [
       "                                               title  \\\n",
       "0  Agent Cooper in Twin Peaks is the audience: on...   \n",
       "1                                  AI, the humanity!   \n",
       "2                                     Massive attack   \n",
       "3                                        Brain drain   \n",
       "4                              Facebook takes flight   \n",
       "\n",
       "                                             content  category  \\\n",
       "0        And never more so than in Showtime’s new...  Longform   \n",
       "1        AlphaGo’s victory isn’t a defeat for hum...  Longform   \n",
       "2        How a weapon against war became a weapon...  Longform   \n",
       "3        Genius quietly laid off a bunch of its e...  Longform   \n",
       "4        Inside the test flight of Facebook’s fir...  Longform   \n",
       "\n",
       "                                      gensim_summary  \\\n",
       "0  In the second season finale, back in 1991, the...   \n",
       "1  When speaking to DeepMind and Google developer...   \n",
       "2  International visitors for the event are commo...   \n",
       "3  In a post on the Genius blog at the time, co-f...   \n",
       "4  But if your goal is to stay in the air for a l...   \n",
       "\n",
       "                                           first_100  \\\n",
       "0  And never more so than in Showtime’s new serie...   \n",
       "1  AlphaGo’s victory isn’t a defeat for humans — ...   \n",
       "2  How a weapon against war became a weapon again...   \n",
       "3  Genius quietly laid off a bunch of its enginee...   \n",
       "4  Inside the test flight of Facebook’s first int...   \n",
       "\n",
       "                                      sent_tokenized  \n",
       "0  ['      And never more so than in Showtime’s n...  \n",
       "1  ['      AlphaGo’s victory isn’t a defeat for h...  \n",
       "2  ['      How a weapon against war became a weap...  \n",
       "3  ['      Genius quietly laid off a bunch of its...  \n",
       "4  ['      Inside the test flight of Facebook’s f...  "
      ]
     },
     "execution_count": 33,
     "metadata": {},
     "output_type": "execute_result"
    }
   ],
   "source": [
    "df.head()"
   ]
  },
  {
   "cell_type": "markdown",
   "metadata": {},
   "source": [
    "<h3>Clustering --- MESSY!"
   ]
  },
  {
   "cell_type": "code",
   "execution_count": 34,
   "metadata": {},
   "outputs": [],
   "source": [
    "titles = df.title.tolist()\n",
    "summaries = df.gensim_summary.tolist()"
   ]
  },
  {
   "cell_type": "code",
   "execution_count": 61,
   "metadata": {},
   "outputs": [],
   "source": [
    "from sklearn.feature_extraction.text import TfidfVectorizer\n",
    "from sklearn.cluster import KMeans\n",
    "from sklearn.metrics import adjusted_rand_score"
   ]
  },
  {
   "cell_type": "code",
   "execution_count": 59,
   "metadata": {},
   "outputs": [],
   "source": [
    "vectorizer = TfidfVectorizer(stop_words='english')\n",
    "X = vectorizer.fit_transform(summaries)"
   ]
  },
  {
   "cell_type": "code",
   "execution_count": null,
   "metadata": {},
   "outputs": [],
   "source": []
  },
  {
   "cell_type": "raw",
   "metadata": {},
   "source": [
    "true_k = 4\n",
    "model = KMeans(n_clusters=true_k, init='k-means++', max_iter=100, n_init=1)\n",
    "model.fit(X)\n"
   ]
  },
  {
   "cell_type": "code",
   "execution_count": 69,
   "metadata": {},
   "outputs": [],
   "source": [
    "pred_clusters = model.predict(X)"
   ]
  },
  {
   "cell_type": "code",
   "execution_count": 133,
   "metadata": {},
   "outputs": [
    {
     "data": {
      "text/plain": [
       "<matplotlib.collections.PathCollection at 0x1a5c6445f8>"
      ]
     },
     "execution_count": 133,
     "metadata": {},
     "output_type": "execute_result"
    },
    {
     "data": {
      "image/png": "[encoded data removed]",
      "text/plain": [
       "<Figure size 432x288 with 1 Axes>"
      ]
     },
     "metadata": {
      "needs_background": "light"
     },
     "output_type": "display_data"
    }
   ],
   "source": [
    "order_centroids = model.cluster_centers_.argsort()[:, ::-1]\n",
    "#plt.scatter(X[:, 0], X[:, 1], c=pred_clusters, s=10)\n",
    "terms = vectorizer.get_feature_names()\n",
    "plt.scatter(order_centroids[:, 0], order_centroids[:, 1], c='black', s=70)"
   ]
  },
  {
   "cell_type": "code",
   "execution_count": 119,
   "metadata": {},
   "outputs": [],
   "source": [
    "import ast"
   ]
  },
  {
   "cell_type": "code",
   "execution_count": 156,
   "metadata": {},
   "outputs": [
    {
     "data": {
      "text/plain": [
       "85"
      ]
     },
     "execution_count": 156,
     "metadata": {},
     "output_type": "execute_result"
    }
   ],
   "source": [
    "len(ast.literal_eval(test))"
   ]
  },
  {
   "cell_type": "code",
   "execution_count": null,
   "metadata": {},
   "outputs": [],
   "source": []
  },
  {
   "cell_type": "code",
   "execution_count": 274,
   "metadata": {},
   "outputs": [],
   "source": [
    "def cluster_article_sents(sentences):\n",
    "    #tune function for edge cases\n",
    "    if type(sentences) == str:\n",
    "        #if text is a list within a string:\n",
    "        if sentences[0] == '[':\n",
    "            #perform literal eval of string (take off the quotes and keep the list)\n",
    "            document = ast.literal_eval(sentences)\n",
    "            print('literal eval')\n",
    "        else:\n",
    "            #if raw text, tokenize the sentences\n",
    "            document = sent_tokenize(sentences, language = 'en')\n",
    "            print('raw text')\n",
    "    else:\n",
    "        document = sentences\n",
    "        print('already tokenize')\n",
    "    print(document[:10])\n",
    "    print(len(document))\n",
    "    \n",
    "    #vectorize sentences of the document\n",
    "    vectorizer = TfidfVectorizer(stop_words='english')\n",
    "    X = vectorizer.fit_transform(document)\n",
    "    \n",
    "    #cluster sentences within document\n",
    "    k = int(np.floor(len(document)**.5))\n",
    "    print(k)\n",
    "    model = KMeans(n_clusters = k, random_state = 0) #, init = 'k-means++', max_iter = 100, n_init = 1)\n",
    "    \n",
    "    #fit model to document\n",
    "    model.fit(X)\n",
    "   \n",
    "    #create empty lists to hold ################\n",
    "    avg = []\n",
    "    closest = []\n",
    "    \n",
    "    for i in range(k):\n",
    "        idx = np.where(model.labels_ == i)[0]\n",
    "        print(idx)\n",
    "        avg.append(np.mean(idx))\n",
    "    print(avg)\n",
    "    print(model.cluster_centers_)\n",
    "    #closest, _ = pairwise_distances_argmin_min(model.cluster_centers_, !!!!)\n",
    "\n",
    "    \n",
    "    \n",
    "    #plotting\n",
    "    centers = model.cluster_centers_ #.argsort()[:, ::-1]\n",
    "    #plt.scatter(X[:, 0], X[:, 1], c = X, s=10)\n",
    "    terms = vectorizer.get_feature_names()\n",
    "    plt.scatter(centers[:, 0], centers[:, 1], c='black', s=70)"
   ]
  },
  {
   "cell_type": "code",
   "execution_count": 267,
   "metadata": {},
   "outputs": [
    {
     "data": {
      "text/plain": [
       "77"
      ]
     },
     "execution_count": 267,
     "metadata": {},
     "output_type": "execute_result"
    }
   ],
   "source": [
    "test = df.sent_tokenized[2]\n",
    "len(ast.literal_eval(test))"
   ]
  },
  {
   "cell_type": "code",
   "execution_count": 252,
   "metadata": {},
   "outputs": [],
   "source": [
    "sample = ['this is one sentence.', 'this is a second sentence.', 'this is a third.']"
   ]
  },
  {
   "cell_type": "code",
   "execution_count": 275,
   "metadata": {},
   "outputs": [
    {
     "name": "stdout",
     "output_type": "stream",
     "text": [
      "literal eval\n",
      "['      How a weapon against war became a weapon against the web Every year, artists and technology enthusiasts meet in Linz, Austria, for the Ars Electronica Festival, a meetup in the city’s downtown, located just off the Danube River.', 'The festival is a haven for those with an eye toward the future — something between Burning Man and a TED conference, with visitors navigating scientific equipment, LED lights, and colorful installations.', 'International visitors for the event are common enough, but the 1998 festival featured an unlikely participant: the Pentagon.That year, members of an art group called the Electronic Disturbance Theater were invited to demonstrate a program called FloodNet.', 'Billed as a “virtual sit-in,” users navigated to the FloodNet website at a predetermined time, and through a simple Java tool, were directed to a targeted website that would reload constantly, every few seconds.', 'With enough people — perhaps thousands — the sit-in caused targeted websites to slow or maybe even crash, rendering them intermittently inaccessible.The ability to neutralize practically any website on demand...was a powerful new tool for global civic disobedienceThe group set three targets, picked in solidarity with Mexico’s Zapatista revolutionary movement and “against neoliberalism and the global economy”: Mexican president Ernesto Zedillo, the Frankfurt Stock Exchange, and what was then the site of the US Department of Defense, defenselink.mil.', 'The group called its protests “actions,” and this action was called SWARM — Stop the War in Mexico.The ability to neutralize practically any website on demand — what’s now commonly referred to as a distributed denial of service, or DDoS, attack — was a powerful new tool for global civic disobedience.', 'But for agencies like the Department of Defense, then facing the earliest prospects of war in the digital age, the capability posed a legitimate threat, and a dark omen of what was to come.', 'This year marks the 20th anniversary of the group’s earliest beginnings, and the questions raised by Electronic Disturbance Theater’s actions are relevant in ways its creators could not have foreseen.', 'Today the DDoS attack seems like a fait accompli of digital life: in October, a bot-powered DDoS attack shut down major sites around the internet — a caper that exposed the fragility of the internet, as the attack was soon classified as the largest of its kind ever observed.In a documentary from 2001, Ricardo Dominguez, EDT’s bespectacled, wavy-haired ringleader, explains the group’s mission in the sober, scholarly diction of a determined revolutionary: “Electronic civil disobedience is non-violent direct action online.” EDT’s precise ideological origins are murky, and not without some controversy.', 'In the 1990s, a group called Critical Art Ensemble was formed in Tallahassee, Florida.']\n",
      "77\n",
      "8\n",
      "[13 14 16 39 49 55 59]\n",
      "[ 2  6  7 10 51 58 66]\n",
      "[ 9 29 33 34 36 40 41 44 45 46 47 52 63 68 70]\n",
      "[ 1  8 11 15 20 21 26 28 32 42 48 50 54 60 65 67 72 75]\n",
      "[ 0 22 24 27 31 37 38 43 57 69 71]\n",
      "[ 5 12 53 56 61 62 73 74 76]\n",
      "[18 19 23 30 35]\n",
      "[ 3  4 17 25 64]\n",
      "[35.0, 28.571428571428573, 43.8, 38.611111111111114, 38.09090909090909, 52.44444444444444, 25.0, 22.6]\n",
      "[[0.         0.05595945 0.         ... 0.02704953 0.02704953 0.        ]\n",
      " [0.         0.         0.         ... 0.         0.         0.        ]\n",
      " [0.         0.         0.         ... 0.         0.         0.        ]\n",
      " ...\n",
      " [0.         0.         0.         ... 0.         0.         0.        ]\n",
      " [0.         0.         0.         ... 0.         0.03704576 0.10522694]\n",
      " [0.         0.         0.         ... 0.02694615 0.07687971 0.14796195]]\n"
     ]
    },
    {
     "data": {
      "image/png": "[encoded data removed]",
      "text/plain": [
       "<Figure size 432x288 with 1 Axes>"
      ]
     },
     "metadata": {
      "needs_background": "light"
     },
     "output_type": "display_data"
    }
   ],
   "source": [
    "cluster_article_sents(test)"
   ]
  },
  {
   "cell_type": "code",
   "execution_count": 125,
   "metadata": {},
   "outputs": [
    {
     "data": {
      "text/plain": [
       "9.219544457292887"
      ]
     },
     "execution_count": 125,
     "metadata": {},
     "output_type": "execute_result"
    }
   ],
   "source": [
    "np.sqrt(85)"
   ]
  },
  {
   "cell_type": "markdown",
   "metadata": {},
   "source": [
    "<h3>Finding Cosine Similarity Between All Sentences"
   ]
  },
  {
   "cell_type": "code",
   "execution_count": 495,
   "metadata": {},
   "outputs": [],
   "source": [
    "sample = \"\"\"Drivers don’t always realize that they may be overpaying for car insurance. If you haven't compared quotes\n",
    "recently, even if you have a low rate, you could still be paying too much. Fortunately, millions of smart drivers have\n",
    "used EverQuote™'s free service to save hundreds on their insurance bills. It’s really no wonder that with so many \n",
    "drivers saving money, EverQuote™ is gaining momentum. EverQuote™ is an efficient source that tries to give consumers\n",
    "the lowest rates with tools you can trust. Just imagine what you could do with the money you save!\"\"\""
   ]
  },
  {
   "cell_type": "code",
   "execution_count": 561,
   "metadata": {},
   "outputs": [],
   "source": [
    "sample_2 = \"\"\"President Donald Trump and his Polish counterpart Andrzej Duda were to announce higher US troop levels in Poland \n",
    "on Wednesday, with the main question being whether Washington will defy Russian objections to establish an American \n",
    "base in the NATO country. A senior Trump administration official said the White House meeting would see the two \n",
    "leaders make a significant announcement.\" Whether Trump will risk irritating Moscow with a base or take the simpler \n",
    "option of adding more troops to the current non-permanent force was unclear. Located deep in what used to be \n",
    "Soviet-dominated eastern Europe, Poland is a member of NATO but has long wanted deeper US commitment. Spooked by \n",
    "resurgent Russia's seizing control of territory in Georgia and Ukraine over the last decade, Duda has tried to charm \n",
    "the US president, even touting the idea of Poland building a \"Fort Trump\" to house thousands of US soldiers.\n",
    "Krzysztof Szczerski, an adviser to the Polish president, said the general concept of a \"Fort Trump\" was on the \n",
    "agenda Wednesday and that the US presence \"will increase both in quality as well as quantity.\" \"\"\""
   ]
  },
  {
   "cell_type": "code",
   "execution_count": 487,
   "metadata": {},
   "outputs": [
    {
     "data": {
      "text/html": [
       "<div>\n",
       "<style scoped>\n",
       "    .dataframe tbody tr th:only-of-type {\n",
       "        vertical-align: middle;\n",
       "    }\n",
       "\n",
       "    .dataframe tbody tr th {\n",
       "        vertical-align: top;\n",
       "    }\n",
       "\n",
       "    .dataframe thead th {\n",
       "        text-align: right;\n",
       "    }\n",
       "</style>\n",
       "<table border=\"1\" class=\"dataframe\">\n",
       "  <thead>\n",
       "    <tr style=\"text-align: right;\">\n",
       "      <th></th>\n",
       "      <th>always</th>\n",
       "      <th>bills</th>\n",
       "      <th>car</th>\n",
       "      <th>compared</th>\n",
       "      <th>consumers</th>\n",
       "      <th>could</th>\n",
       "      <th>drivers</th>\n",
       "      <th>efficient</th>\n",
       "      <th>even</th>\n",
       "      <th>everquote</th>\n",
       "      <th>fortunately</th>\n",
       "      <th>free</th>\n",
       "      <th>gaining</th>\n",
       "      <th>give</th>\n",
       "      <th>hundreds</th>\n",
       "      <th>imagine</th>\n",
       "      <th>insurance</th>\n",
       "      <th>low</th>\n",
       "      <th>lowest</th>\n",
       "      <th>many</th>\n",
       "      <th>may</th>\n",
       "      <th>millions</th>\n",
       "      <th>momentum</th>\n",
       "      <th>money</th>\n",
       "      <th>much</th>\n",
       "      <th>overpaying</th>\n",
       "      <th>paying</th>\n",
       "      <th>quotes</th>\n",
       "      <th>rate</th>\n",
       "      <th>rates</th>\n",
       "      <th>realize</th>\n",
       "      <th>really</th>\n",
       "      <th>recently</th>\n",
       "      <th>save</th>\n",
       "      <th>saving</th>\n",
       "      <th>service</th>\n",
       "      <th>smart</th>\n",
       "      <th>source</th>\n",
       "      <th>still</th>\n",
       "      <th>tools</th>\n",
       "      <th>tries</th>\n",
       "      <th>trust</th>\n",
       "      <th>used</th>\n",
       "      <th>wonder</th>\n",
       "    </tr>\n",
       "  </thead>\n",
       "  <tbody>\n",
       "    <tr>\n",
       "      <th>Drivers don’t always realize that they may be overpaying for car insurance.</th>\n",
       "      <td>0.403183</td>\n",
       "      <td>0.000000</td>\n",
       "      <td>0.403183</td>\n",
       "      <td>0.000000</td>\n",
       "      <td>0.000000</td>\n",
       "      <td>0.000000</td>\n",
       "      <td>0.279128</td>\n",
       "      <td>0.000000</td>\n",
       "      <td>0.000000</td>\n",
       "      <td>0.000000</td>\n",
       "      <td>0.000000</td>\n",
       "      <td>0.000000</td>\n",
       "      <td>0.000</td>\n",
       "      <td>0.000000</td>\n",
       "      <td>0.000000</td>\n",
       "      <td>0.000000</td>\n",
       "      <td>0.330615</td>\n",
       "      <td>0.000000</td>\n",
       "      <td>0.000000</td>\n",
       "      <td>0.000</td>\n",
       "      <td>0.403183</td>\n",
       "      <td>0.000000</td>\n",
       "      <td>0.000</td>\n",
       "      <td>0.000000</td>\n",
       "      <td>0.000000</td>\n",
       "      <td>0.403183</td>\n",
       "      <td>0.000000</td>\n",
       "      <td>0.000000</td>\n",
       "      <td>0.000000</td>\n",
       "      <td>0.000000</td>\n",
       "      <td>0.403183</td>\n",
       "      <td>0.000</td>\n",
       "      <td>0.000000</td>\n",
       "      <td>0.000000</td>\n",
       "      <td>0.000</td>\n",
       "      <td>0.000000</td>\n",
       "      <td>0.000000</td>\n",
       "      <td>0.000000</td>\n",
       "      <td>0.000000</td>\n",
       "      <td>0.000000</td>\n",
       "      <td>0.000000</td>\n",
       "      <td>0.000000</td>\n",
       "      <td>0.000000</td>\n",
       "      <td>0.000</td>\n",
       "    </tr>\n",
       "    <tr>\n",
       "      <th>If you haven't compared quotes\\nrecently, even if you have a low rate, you could still be paying too much.</th>\n",
       "      <td>0.000000</td>\n",
       "      <td>0.000000</td>\n",
       "      <td>0.000000</td>\n",
       "      <td>0.321538</td>\n",
       "      <td>0.000000</td>\n",
       "      <td>0.263666</td>\n",
       "      <td>0.000000</td>\n",
       "      <td>0.000000</td>\n",
       "      <td>0.321538</td>\n",
       "      <td>0.000000</td>\n",
       "      <td>0.000000</td>\n",
       "      <td>0.000000</td>\n",
       "      <td>0.000</td>\n",
       "      <td>0.000000</td>\n",
       "      <td>0.000000</td>\n",
       "      <td>0.000000</td>\n",
       "      <td>0.000000</td>\n",
       "      <td>0.321538</td>\n",
       "      <td>0.000000</td>\n",
       "      <td>0.000</td>\n",
       "      <td>0.000000</td>\n",
       "      <td>0.000000</td>\n",
       "      <td>0.000</td>\n",
       "      <td>0.000000</td>\n",
       "      <td>0.321538</td>\n",
       "      <td>0.000000</td>\n",
       "      <td>0.321538</td>\n",
       "      <td>0.321538</td>\n",
       "      <td>0.321538</td>\n",
       "      <td>0.000000</td>\n",
       "      <td>0.000000</td>\n",
       "      <td>0.000</td>\n",
       "      <td>0.321538</td>\n",
       "      <td>0.000000</td>\n",
       "      <td>0.000</td>\n",
       "      <td>0.000000</td>\n",
       "      <td>0.000000</td>\n",
       "      <td>0.000000</td>\n",
       "      <td>0.321538</td>\n",
       "      <td>0.000000</td>\n",
       "      <td>0.000000</td>\n",
       "      <td>0.000000</td>\n",
       "      <td>0.000000</td>\n",
       "      <td>0.000</td>\n",
       "    </tr>\n",
       "    <tr>\n",
       "      <th>Fortunately, millions of smart drivers have\\nused EverQuote™'s free service to save hundreds on their insurance bills.</th>\n",
       "      <td>0.000000</td>\n",
       "      <td>0.311536</td>\n",
       "      <td>0.000000</td>\n",
       "      <td>0.000000</td>\n",
       "      <td>0.000000</td>\n",
       "      <td>0.000000</td>\n",
       "      <td>0.215681</td>\n",
       "      <td>0.000000</td>\n",
       "      <td>0.000000</td>\n",
       "      <td>0.215681</td>\n",
       "      <td>0.311536</td>\n",
       "      <td>0.311536</td>\n",
       "      <td>0.000</td>\n",
       "      <td>0.000000</td>\n",
       "      <td>0.311536</td>\n",
       "      <td>0.000000</td>\n",
       "      <td>0.255464</td>\n",
       "      <td>0.000000</td>\n",
       "      <td>0.000000</td>\n",
       "      <td>0.000</td>\n",
       "      <td>0.000000</td>\n",
       "      <td>0.311536</td>\n",
       "      <td>0.000</td>\n",
       "      <td>0.000000</td>\n",
       "      <td>0.000000</td>\n",
       "      <td>0.000000</td>\n",
       "      <td>0.000000</td>\n",
       "      <td>0.000000</td>\n",
       "      <td>0.000000</td>\n",
       "      <td>0.000000</td>\n",
       "      <td>0.000000</td>\n",
       "      <td>0.000</td>\n",
       "      <td>0.000000</td>\n",
       "      <td>0.255464</td>\n",
       "      <td>0.000</td>\n",
       "      <td>0.311536</td>\n",
       "      <td>0.311536</td>\n",
       "      <td>0.000000</td>\n",
       "      <td>0.000000</td>\n",
       "      <td>0.000000</td>\n",
       "      <td>0.000000</td>\n",
       "      <td>0.000000</td>\n",
       "      <td>0.311536</td>\n",
       "      <td>0.000</td>\n",
       "    </tr>\n",
       "    <tr>\n",
       "      <th>It’s really no wonder that with so many \\ndrivers saving money, EverQuote™ is gaining momentum.</th>\n",
       "      <td>0.000000</td>\n",
       "      <td>0.000000</td>\n",
       "      <td>0.000000</td>\n",
       "      <td>0.000000</td>\n",
       "      <td>0.000000</td>\n",
       "      <td>0.000000</td>\n",
       "      <td>0.250617</td>\n",
       "      <td>0.000000</td>\n",
       "      <td>0.000000</td>\n",
       "      <td>0.250617</td>\n",
       "      <td>0.000000</td>\n",
       "      <td>0.000000</td>\n",
       "      <td>0.362</td>\n",
       "      <td>0.000000</td>\n",
       "      <td>0.000000</td>\n",
       "      <td>0.000000</td>\n",
       "      <td>0.000000</td>\n",
       "      <td>0.000000</td>\n",
       "      <td>0.000000</td>\n",
       "      <td>0.362</td>\n",
       "      <td>0.000000</td>\n",
       "      <td>0.000000</td>\n",
       "      <td>0.362</td>\n",
       "      <td>0.296845</td>\n",
       "      <td>0.000000</td>\n",
       "      <td>0.000000</td>\n",
       "      <td>0.000000</td>\n",
       "      <td>0.000000</td>\n",
       "      <td>0.000000</td>\n",
       "      <td>0.000000</td>\n",
       "      <td>0.000000</td>\n",
       "      <td>0.362</td>\n",
       "      <td>0.000000</td>\n",
       "      <td>0.000000</td>\n",
       "      <td>0.362</td>\n",
       "      <td>0.000000</td>\n",
       "      <td>0.000000</td>\n",
       "      <td>0.000000</td>\n",
       "      <td>0.000000</td>\n",
       "      <td>0.000000</td>\n",
       "      <td>0.000000</td>\n",
       "      <td>0.000000</td>\n",
       "      <td>0.000000</td>\n",
       "      <td>0.362</td>\n",
       "    </tr>\n",
       "    <tr>\n",
       "      <th>EverQuote™ is an efficient source that tries to give consumers\\nthe lowest rates with tools you can trust.</th>\n",
       "      <td>0.000000</td>\n",
       "      <td>0.000000</td>\n",
       "      <td>0.000000</td>\n",
       "      <td>0.000000</td>\n",
       "      <td>0.324797</td>\n",
       "      <td>0.000000</td>\n",
       "      <td>0.000000</td>\n",
       "      <td>0.324797</td>\n",
       "      <td>0.000000</td>\n",
       "      <td>0.224861</td>\n",
       "      <td>0.000000</td>\n",
       "      <td>0.000000</td>\n",
       "      <td>0.000</td>\n",
       "      <td>0.324797</td>\n",
       "      <td>0.000000</td>\n",
       "      <td>0.000000</td>\n",
       "      <td>0.000000</td>\n",
       "      <td>0.000000</td>\n",
       "      <td>0.324797</td>\n",
       "      <td>0.000</td>\n",
       "      <td>0.000000</td>\n",
       "      <td>0.000000</td>\n",
       "      <td>0.000</td>\n",
       "      <td>0.000000</td>\n",
       "      <td>0.000000</td>\n",
       "      <td>0.000000</td>\n",
       "      <td>0.000000</td>\n",
       "      <td>0.000000</td>\n",
       "      <td>0.000000</td>\n",
       "      <td>0.324797</td>\n",
       "      <td>0.000000</td>\n",
       "      <td>0.000</td>\n",
       "      <td>0.000000</td>\n",
       "      <td>0.000000</td>\n",
       "      <td>0.000</td>\n",
       "      <td>0.000000</td>\n",
       "      <td>0.000000</td>\n",
       "      <td>0.324797</td>\n",
       "      <td>0.000000</td>\n",
       "      <td>0.324797</td>\n",
       "      <td>0.324797</td>\n",
       "      <td>0.324797</td>\n",
       "      <td>0.000000</td>\n",
       "      <td>0.000</td>\n",
       "    </tr>\n",
       "    <tr>\n",
       "      <th>Just imagine what you could do with the money you save!</th>\n",
       "      <td>0.000000</td>\n",
       "      <td>0.000000</td>\n",
       "      <td>0.000000</td>\n",
       "      <td>0.000000</td>\n",
       "      <td>0.000000</td>\n",
       "      <td>0.472079</td>\n",
       "      <td>0.000000</td>\n",
       "      <td>0.000000</td>\n",
       "      <td>0.000000</td>\n",
       "      <td>0.000000</td>\n",
       "      <td>0.000000</td>\n",
       "      <td>0.000000</td>\n",
       "      <td>0.000</td>\n",
       "      <td>0.000000</td>\n",
       "      <td>0.000000</td>\n",
       "      <td>0.575696</td>\n",
       "      <td>0.000000</td>\n",
       "      <td>0.000000</td>\n",
       "      <td>0.000000</td>\n",
       "      <td>0.000</td>\n",
       "      <td>0.000000</td>\n",
       "      <td>0.000000</td>\n",
       "      <td>0.000</td>\n",
       "      <td>0.472079</td>\n",
       "      <td>0.000000</td>\n",
       "      <td>0.000000</td>\n",
       "      <td>0.000000</td>\n",
       "      <td>0.000000</td>\n",
       "      <td>0.000000</td>\n",
       "      <td>0.000000</td>\n",
       "      <td>0.000000</td>\n",
       "      <td>0.000</td>\n",
       "      <td>0.000000</td>\n",
       "      <td>0.472079</td>\n",
       "      <td>0.000</td>\n",
       "      <td>0.000000</td>\n",
       "      <td>0.000000</td>\n",
       "      <td>0.000000</td>\n",
       "      <td>0.000000</td>\n",
       "      <td>0.000000</td>\n",
       "      <td>0.000000</td>\n",
       "      <td>0.000000</td>\n",
       "      <td>0.000000</td>\n",
       "      <td>0.000</td>\n",
       "    </tr>\n",
       "  </tbody>\n",
       "</table>\n",
       "</div>"
      ],
      "text/plain": [
       "                                                      always     bills  \\\n",
       "Drivers don’t always realize that they may be o...  0.403183  0.000000   \n",
       "If you haven't compared quotes\\nrecently, even ...  0.000000  0.000000   \n",
       "Fortunately, millions of smart drivers have\\nus...  0.000000  0.311536   \n",
       "It’s really no wonder that with so many \\ndrive...  0.000000  0.000000   \n",
       "EverQuote™ is an efficient source that tries to...  0.000000  0.000000   \n",
       "Just imagine what you could do with the money y...  0.000000  0.000000   \n",
       "\n",
       "                                                         car  compared  \\\n",
       "Drivers don’t always realize that they may be o...  0.403183  0.000000   \n",
       "If you haven't compared quotes\\nrecently, even ...  0.000000  0.321538   \n",
       "Fortunately, millions of smart drivers have\\nus...  0.000000  0.000000   \n",
       "It’s really no wonder that with so many \\ndrive...  0.000000  0.000000   \n",
       "EverQuote™ is an efficient source that tries to...  0.000000  0.000000   \n",
       "Just imagine what you could do with the money y...  0.000000  0.000000   \n",
       "\n",
       "                                                    consumers     could  \\\n",
       "Drivers don’t always realize that they may be o...   0.000000  0.000000   \n",
       "If you haven't compared quotes\\nrecently, even ...   0.000000  0.263666   \n",
       "Fortunately, millions of smart drivers have\\nus...   0.000000  0.000000   \n",
       "It’s really no wonder that with so many \\ndrive...   0.000000  0.000000   \n",
       "EverQuote™ is an efficient source that tries to...   0.324797  0.000000   \n",
       "Just imagine what you could do with the money y...   0.000000  0.472079   \n",
       "\n",
       "                                                     drivers  efficient  \\\n",
       "Drivers don’t always realize that they may be o...  0.279128   0.000000   \n",
       "If you haven't compared quotes\\nrecently, even ...  0.000000   0.000000   \n",
       "Fortunately, millions of smart drivers have\\nus...  0.215681   0.000000   \n",
       "It’s really no wonder that with so many \\ndrive...  0.250617   0.000000   \n",
       "EverQuote™ is an efficient source that tries to...  0.000000   0.324797   \n",
       "Just imagine what you could do with the money y...  0.000000   0.000000   \n",
       "\n",
       "                                                        even  everquote  \\\n",
       "Drivers don’t always realize that they may be o...  0.000000   0.000000   \n",
       "If you haven't compared quotes\\nrecently, even ...  0.321538   0.000000   \n",
       "Fortunately, millions of smart drivers have\\nus...  0.000000   0.215681   \n",
       "It’s really no wonder that with so many \\ndrive...  0.000000   0.250617   \n",
       "EverQuote™ is an efficient source that tries to...  0.000000   0.224861   \n",
       "Just imagine what you could do with the money y...  0.000000   0.000000   \n",
       "\n",
       "                                                    fortunately      free  \\\n",
       "Drivers don’t always realize that they may be o...     0.000000  0.000000   \n",
       "If you haven't compared quotes\\nrecently, even ...     0.000000  0.000000   \n",
       "Fortunately, millions of smart drivers have\\nus...     0.311536  0.311536   \n",
       "It’s really no wonder that with so many \\ndrive...     0.000000  0.000000   \n",
       "EverQuote™ is an efficient source that tries to...     0.000000  0.000000   \n",
       "Just imagine what you could do with the money y...     0.000000  0.000000   \n",
       "\n",
       "                                                    gaining      give  \\\n",
       "Drivers don’t always realize that they may be o...    0.000  0.000000   \n",
       "If you haven't compared quotes\\nrecently, even ...    0.000  0.000000   \n",
       "Fortunately, millions of smart drivers have\\nus...    0.000  0.000000   \n",
       "It’s really no wonder that with so many \\ndrive...    0.362  0.000000   \n",
       "EverQuote™ is an efficient source that tries to...    0.000  0.324797   \n",
       "Just imagine what you could do with the money y...    0.000  0.000000   \n",
       "\n",
       "                                                    hundreds   imagine  \\\n",
       "Drivers don’t always realize that they may be o...  0.000000  0.000000   \n",
       "If you haven't compared quotes\\nrecently, even ...  0.000000  0.000000   \n",
       "Fortunately, millions of smart drivers have\\nus...  0.311536  0.000000   \n",
       "It’s really no wonder that with so many \\ndrive...  0.000000  0.000000   \n",
       "EverQuote™ is an efficient source that tries to...  0.000000  0.000000   \n",
       "Just imagine what you could do with the money y...  0.000000  0.575696   \n",
       "\n",
       "                                                    insurance       low  \\\n",
       "Drivers don’t always realize that they may be o...   0.330615  0.000000   \n",
       "If you haven't compared quotes\\nrecently, even ...   0.000000  0.321538   \n",
       "Fortunately, millions of smart drivers have\\nus...   0.255464  0.000000   \n",
       "It’s really no wonder that with so many \\ndrive...   0.000000  0.000000   \n",
       "EverQuote™ is an efficient source that tries to...   0.000000  0.000000   \n",
       "Just imagine what you could do with the money y...   0.000000  0.000000   \n",
       "\n",
       "                                                      lowest   many       may  \\\n",
       "Drivers don’t always realize that they may be o...  0.000000  0.000  0.403183   \n",
       "If you haven't compared quotes\\nrecently, even ...  0.000000  0.000  0.000000   \n",
       "Fortunately, millions of smart drivers have\\nus...  0.000000  0.000  0.000000   \n",
       "It’s really no wonder that with so many \\ndrive...  0.000000  0.362  0.000000   \n",
       "EverQuote™ is an efficient source that tries to...  0.324797  0.000  0.000000   \n",
       "Just imagine what you could do with the money y...  0.000000  0.000  0.000000   \n",
       "\n",
       "                                                    millions  momentum  \\\n",
       "Drivers don’t always realize that they may be o...  0.000000     0.000   \n",
       "If you haven't compared quotes\\nrecently, even ...  0.000000     0.000   \n",
       "Fortunately, millions of smart drivers have\\nus...  0.311536     0.000   \n",
       "It’s really no wonder that with so many \\ndrive...  0.000000     0.362   \n",
       "EverQuote™ is an efficient source that tries to...  0.000000     0.000   \n",
       "Just imagine what you could do with the money y...  0.000000     0.000   \n",
       "\n",
       "                                                       money      much  \\\n",
       "Drivers don’t always realize that they may be o...  0.000000  0.000000   \n",
       "If you haven't compared quotes\\nrecently, even ...  0.000000  0.321538   \n",
       "Fortunately, millions of smart drivers have\\nus...  0.000000  0.000000   \n",
       "It’s really no wonder that with so many \\ndrive...  0.296845  0.000000   \n",
       "EverQuote™ is an efficient source that tries to...  0.000000  0.000000   \n",
       "Just imagine what you could do with the money y...  0.472079  0.000000   \n",
       "\n",
       "                                                    overpaying    paying  \\\n",
       "Drivers don’t always realize that they may be o...    0.403183  0.000000   \n",
       "If you haven't compared quotes\\nrecently, even ...    0.000000  0.321538   \n",
       "Fortunately, millions of smart drivers have\\nus...    0.000000  0.000000   \n",
       "It’s really no wonder that with so many \\ndrive...    0.000000  0.000000   \n",
       "EverQuote™ is an efficient source that tries to...    0.000000  0.000000   \n",
       "Just imagine what you could do with the money y...    0.000000  0.000000   \n",
       "\n",
       "                                                      quotes      rate  \\\n",
       "Drivers don’t always realize that they may be o...  0.000000  0.000000   \n",
       "If you haven't compared quotes\\nrecently, even ...  0.321538  0.321538   \n",
       "Fortunately, millions of smart drivers have\\nus...  0.000000  0.000000   \n",
       "It’s really no wonder that with so many \\ndrive...  0.000000  0.000000   \n",
       "EverQuote™ is an efficient source that tries to...  0.000000  0.000000   \n",
       "Just imagine what you could do with the money y...  0.000000  0.000000   \n",
       "\n",
       "                                                       rates   realize  \\\n",
       "Drivers don’t always realize that they may be o...  0.000000  0.403183   \n",
       "If you haven't compared quotes\\nrecently, even ...  0.000000  0.000000   \n",
       "Fortunately, millions of smart drivers have\\nus...  0.000000  0.000000   \n",
       "It’s really no wonder that with so many \\ndrive...  0.000000  0.000000   \n",
       "EverQuote™ is an efficient source that tries to...  0.324797  0.000000   \n",
       "Just imagine what you could do with the money y...  0.000000  0.000000   \n",
       "\n",
       "                                                    really  recently  \\\n",
       "Drivers don’t always realize that they may be o...   0.000  0.000000   \n",
       "If you haven't compared quotes\\nrecently, even ...   0.000  0.321538   \n",
       "Fortunately, millions of smart drivers have\\nus...   0.000  0.000000   \n",
       "It’s really no wonder that with so many \\ndrive...   0.362  0.000000   \n",
       "EverQuote™ is an efficient source that tries to...   0.000  0.000000   \n",
       "Just imagine what you could do with the money y...   0.000  0.000000   \n",
       "\n",
       "                                                        save  saving  \\\n",
       "Drivers don’t always realize that they may be o...  0.000000   0.000   \n",
       "If you haven't compared quotes\\nrecently, even ...  0.000000   0.000   \n",
       "Fortunately, millions of smart drivers have\\nus...  0.255464   0.000   \n",
       "It’s really no wonder that with so many \\ndrive...  0.000000   0.362   \n",
       "EverQuote™ is an efficient source that tries to...  0.000000   0.000   \n",
       "Just imagine what you could do with the money y...  0.472079   0.000   \n",
       "\n",
       "                                                     service     smart  \\\n",
       "Drivers don’t always realize that they may be o...  0.000000  0.000000   \n",
       "If you haven't compared quotes\\nrecently, even ...  0.000000  0.000000   \n",
       "Fortunately, millions of smart drivers have\\nus...  0.311536  0.311536   \n",
       "It’s really no wonder that with so many \\ndrive...  0.000000  0.000000   \n",
       "EverQuote™ is an efficient source that tries to...  0.000000  0.000000   \n",
       "Just imagine what you could do with the money y...  0.000000  0.000000   \n",
       "\n",
       "                                                      source     still  \\\n",
       "Drivers don’t always realize that they may be o...  0.000000  0.000000   \n",
       "If you haven't compared quotes\\nrecently, even ...  0.000000  0.321538   \n",
       "Fortunately, millions of smart drivers have\\nus...  0.000000  0.000000   \n",
       "It’s really no wonder that with so many \\ndrive...  0.000000  0.000000   \n",
       "EverQuote™ is an efficient source that tries to...  0.324797  0.000000   \n",
       "Just imagine what you could do with the money y...  0.000000  0.000000   \n",
       "\n",
       "                                                       tools     tries  \\\n",
       "Drivers don’t always realize that they may be o...  0.000000  0.000000   \n",
       "If you haven't compared quotes\\nrecently, even ...  0.000000  0.000000   \n",
       "Fortunately, millions of smart drivers have\\nus...  0.000000  0.000000   \n",
       "It’s really no wonder that with so many \\ndrive...  0.000000  0.000000   \n",
       "EverQuote™ is an efficient source that tries to...  0.324797  0.324797   \n",
       "Just imagine what you could do with the money y...  0.000000  0.000000   \n",
       "\n",
       "                                                       trust      used  wonder  \n",
       "Drivers don’t always realize that they may be o...  0.000000  0.000000   0.000  \n",
       "If you haven't compared quotes\\nrecently, even ...  0.000000  0.000000   0.000  \n",
       "Fortunately, millions of smart drivers have\\nus...  0.000000  0.311536   0.000  \n",
       "It’s really no wonder that with so many \\ndrive...  0.000000  0.000000   0.362  \n",
       "EverQuote™ is an efficient source that tries to...  0.324797  0.000000   0.000  \n",
       "Just imagine what you could do with the money y...  0.000000  0.000000   0.000  "
      ]
     },
     "execution_count": 487,
     "metadata": {},
     "output_type": "execute_result"
    }
   ],
   "source": [
    "test_df"
   ]
  },
  {
   "cell_type": "code",
   "execution_count": 488,
   "metadata": {},
   "outputs": [],
   "source": []
  },
  {
   "cell_type": "code",
   "execution_count": 553,
   "metadata": {},
   "outputs": [],
   "source": [
    "def find_similarities(text):\n",
    "    #tokenize sentences\n",
    "    sentences = sent_tokenize(text, language = 'en')\n",
    "    #set stop words\n",
    "    stops = list(set(stopwords.words('english'))) + list(punctuation)\n",
    "    \n",
    "    #vectorize sentences\n",
    "    vectorizer = TfidfVectorizer(stop_words = stops)\n",
    "    trsfm=vectorizer.fit_transform(sentences)\n",
    "    #creat df for article\n",
    "    text_df = pd.DataFrame(trsfm.toarray(),columns=vectorizer.get_feature_names(),index=sentences)\n",
    "    \n",
    "    #declare how many sentences to use in summary\n",
    "    num_sentences = text_df.shape[0]\n",
    "    num_summary_sentences = int(np.ceil(num_sentences**.5))\n",
    "    \n",
    "    #find cosine similarity for all sentences\n",
    "    similarities = cosine_similarity(trsfm, trsfm)\n",
    "    \n",
    "    #create list to hold avg cosine similarities for each sentence\n",
    "    avgs = []\n",
    "    for i in similarities:\n",
    "        avgs.append(i.mean())\n",
    "     \n",
    "    #find index values of the sentences to be used for summary\n",
    "    top_idx = np.argsort(avgs)[-num_summary_sentences:]\n",
    "    \n",
    "    return top_idx"
   ]
  },
  {
   "cell_type": "code",
   "execution_count": 554,
   "metadata": {},
   "outputs": [
    {
     "data": {
      "text/plain": [
       "array([3, 5, 2])"
      ]
     },
     "execution_count": 554,
     "metadata": {},
     "output_type": "execute_result"
    }
   ],
   "source": [
    "find_similarities(sample)"
   ]
  },
  {
   "cell_type": "code",
   "execution_count": null,
   "metadata": {},
   "outputs": [],
   "source": []
  },
  {
   "cell_type": "code",
   "execution_count": 567,
   "metadata": {},
   "outputs": [],
   "source": [
    "def return_summary(text):\n",
    "    sents_for_sum = find_similarities(text)\n",
    "    return sents_for_sum\n",
    "#     sents_for_sum = sents_for_sum.tolist().sort()\n",
    "#     print(sents_for_sum)\n",
    "#     sent_list = sent_tokenize(text)\n",
    "#     print(len(sent_list))\n",
    "#     sents = []\n",
    "#     for i in sents_for_sum:\n",
    "#         sents.append(sent_list[i].replace('\\n', ''))\n",
    "    \n",
    "#     summary = ' '.join(sents)\n",
    "#     return summary"
   ]
  },
  {
   "cell_type": "code",
   "execution_count": 568,
   "metadata": {},
   "outputs": [
    {
     "data": {
      "text/plain": [
       "array([5, 4, 0])"
      ]
     },
     "execution_count": 568,
     "metadata": {},
     "output_type": "execute_result"
    }
   ],
   "source": [
    "return_summary(sample_2)"
   ]
  },
  {
   "cell_type": "code",
   "execution_count": null,
   "metadata": {},
   "outputs": [],
   "source": []
  },
  {
   "cell_type": "code",
   "execution_count": 19,
   "metadata": {},
   "outputs": [],
   "source": [
    "# load nltk's English stopwords as variable called 'stopwords'\n",
    "stopwords = nltk.corpus.stopwords.words('english')\n"
   ]
  },
  {
   "cell_type": "code",
   "execution_count": 20,
   "metadata": {},
   "outputs": [],
   "source": [
    "# load nltk's SnowballStemmer as variabled 'stemmer'\n",
    "from nltk.stem.snowball import SnowballStemmer\n",
    "stemmer = SnowballStemmer(\"english\")\n"
   ]
  },
  {
   "cell_type": "code",
   "execution_count": 21,
   "metadata": {},
   "outputs": [],
   "source": [
    "def tokenize_and_stem(text):\n",
    "    # first tokenize by sentence, then by word to ensure that punctuation is caught as it's own token\n",
    "    tokens = [word for sent in nltk.sent_tokenize(text) for word in nltk.word_tokenize(sent)]\n",
    "    filtered_tokens = []\n",
    "    # filter out any tokens not containing letters (e.g., numeric tokens, raw punctuation)\n",
    "    for token in tokens:\n",
    "        if re.search('[a-zA-Z]', token):\n",
    "            filtered_tokens.append(token)\n",
    "    stems = [stemmer.stem(t) for t in filtered_tokens]\n",
    "    return stems"
   ]
  },
  {
   "cell_type": "code",
   "execution_count": 23,
   "metadata": {},
   "outputs": [],
   "source": [
    "def tokenize_only(text):\n",
    "    # first tokenize by sentence, then by word to ensure that punctuation is caught as it's own token\n",
    "    tokens = [word.lower() for sent in nltk.sent_tokenize(text) for word in nltk.word_tokenize(sent)]\n",
    "    filtered_tokens = []\n",
    "    # filter out any tokens not containing letters (e.g., numeric tokens, raw punctuation)\n",
    "    for token in tokens:\n",
    "        if re.search('[a-zA-Z]', token):\n",
    "            filtered_tokens.append(token)\n",
    "    return filtered_tokens"
   ]
  },
  {
   "cell_type": "code",
   "execution_count": 35,
   "metadata": {},
   "outputs": [],
   "source": [
    "def stem_tokenize_all(lst):\n",
    "    totalvocab_stemmed = []\n",
    "    totalvocab_tokenized = []\n",
    "    for i in lst:\n",
    "        allwords_stemmed = tokenize_and_stem(i) #for each item in 'synopses', tokenize/stem\n",
    "        totalvocab_stemmed.extend(allwords_stemmed) #extend the 'totalvocab_stemmed' list\n",
    "\n",
    "        allwords_tokenized = tokenize_only(i)\n",
    "        totalvocab_tokenized.extend(allwords_tokenized)\n",
    "    return totalvocab_stemmed, totalvocab_tokenized"
   ]
  },
  {
   "cell_type": "code",
   "execution_count": 37,
   "metadata": {},
   "outputs": [],
   "source": [
    "total_vocab_stemmed, total_vocab_tokenized = stem_tokenize_all(summaries)"
   ]
  },
  {
   "cell_type": "code",
   "execution_count": 51,
   "metadata": {},
   "outputs": [
    {
     "data": {
      "text/plain": [
       "7984855"
      ]
     },
     "execution_count": 51,
     "metadata": {},
     "output_type": "execute_result"
    }
   ],
   "source": [
    "len(total_vocab_tokenized)"
   ]
  },
  {
   "cell_type": "code",
   "execution_count": 52,
   "metadata": {},
   "outputs": [
    {
     "data": {
      "text/plain": [
       "7984855"
      ]
     },
     "execution_count": 52,
     "metadata": {},
     "output_type": "execute_result"
    }
   ],
   "source": [
    "len(total_vocab_stemmed)"
   ]
  },
  {
   "cell_type": "code",
   "execution_count": 39,
   "metadata": {},
   "outputs": [
    {
     "name": "stdout",
     "output_type": "stream",
     "text": [
      "7984855 items in vocab_frame\n"
     ]
    }
   ],
   "source": [
    "#create new df with stemmed vocab as the index and tokenized words as column\n",
    "vocab_df = pd.DataFrame({'words': total_vocab_tokenized}, index = total_vocab_stemmed)\n",
    "print(str(vocab_df.shape[0]) + ' items in vocab_frame')"
   ]
  },
  {
   "cell_type": "code",
   "execution_count": 42,
   "metadata": {},
   "outputs": [
    {
     "data": {
      "text/html": [
       "<div>\n",
       "<style scoped>\n",
       "    .dataframe tbody tr th:only-of-type {\n",
       "        vertical-align: middle;\n",
       "    }\n",
       "\n",
       "    .dataframe tbody tr th {\n",
       "        vertical-align: top;\n",
       "    }\n",
       "\n",
       "    .dataframe thead th {\n",
       "        text-align: right;\n",
       "    }\n",
       "</style>\n",
       "<table border=\"1\" class=\"dataframe\">\n",
       "  <thead>\n",
       "    <tr style=\"text-align: right;\">\n",
       "      <th></th>\n",
       "      <th>words</th>\n",
       "    </tr>\n",
       "  </thead>\n",
       "  <tbody>\n",
       "    <tr>\n",
       "      <th>in</th>\n",
       "      <td>in</td>\n",
       "    </tr>\n",
       "    <tr>\n",
       "      <th>the</th>\n",
       "      <td>the</td>\n",
       "    </tr>\n",
       "    <tr>\n",
       "      <th>second</th>\n",
       "      <td>second</td>\n",
       "    </tr>\n",
       "    <tr>\n",
       "      <th>season</th>\n",
       "      <td>season</td>\n",
       "    </tr>\n",
       "    <tr>\n",
       "      <th>final</th>\n",
       "      <td>finale</td>\n",
       "    </tr>\n",
       "  </tbody>\n",
       "</table>\n",
       "</div>"
      ],
      "text/plain": [
       "         words\n",
       "in          in\n",
       "the        the\n",
       "second  second\n",
       "season  season\n",
       "final   finale"
      ]
     },
     "execution_count": 42,
     "metadata": {},
     "output_type": "execute_result"
    }
   ],
   "source": [
    "vocab_df.head()"
   ]
  },
  {
   "cell_type": "markdown",
   "metadata": {},
   "source": [
    "<h3>TF-IDF"
   ]
  },
  {
   "cell_type": "code",
   "execution_count": 54,
   "metadata": {},
   "outputs": [
    {
     "name": "stdout",
     "output_type": "stream",
     "text": [
      "CPU times: user 4 µs, sys: 1 µs, total: 5 µs\n",
      "Wall time: 10 µs\n"
     ]
    },
    {
     "name": "stderr",
     "output_type": "stream",
     "text": [
      "/Users/austinkrause/anaconda3/lib/python3.7/site-packages/sklearn/feature_extraction/text.py:300: UserWarning: Your stop_words may be inconsistent with your preprocessing. Tokenizing the stop words generated tokens ['abov', 'afterward', 'alon', 'alreadi', 'alway', 'ani', 'anoth', 'anyon', 'anyth', 'anywher', 'becam', 'becaus', 'becom', 'befor', 'besid', 'cri', 'describ', 'dure', 'els', 'elsewher', 'empti', 'everi', 'everyon', 'everyth', 'everywher', 'fifti', 'forti', 'henc', 'hereaft', 'herebi', 'howev', 'hundr', 'inde', 'mani', 'meanwhil', 'moreov', 'nobodi', 'noon', 'noth', 'nowher', 'onc', 'onli', 'otherwis', 'ourselv', 'perhap', 'pleas', 'sever', 'sinc', 'sincer', 'sixti', 'someon', 'someth', 'sometim', 'somewher', 'themselv', 'thenc', 'thereaft', 'therebi', 'therefor', 'togeth', 'twelv', 'twenti', 'veri', 'whatev', 'whenc', 'whenev', 'wherea', 'whereaft', 'wherebi', 'wherev', 'whi', 'yourselv'] not in stop_words.\n",
      "  'stop_words.' % sorted(inconsistent))\n"
     ]
    },
    {
     "data": {
      "text/plain": [
       "(97064, 2)"
      ]
     },
     "execution_count": 54,
     "metadata": {},
     "output_type": "execute_result"
    }
   ],
   "source": [
    "from sklearn.feature_extraction.text import TfidfVectorizer\n",
    "\n",
    "#define vectorizer parameters\n",
    "tfidf_vectorizer = TfidfVectorizer(max_df=0.8, max_features=200000,\n",
    "                                 min_df=0.2, stop_words='english',\n",
    "                                 use_idf=True, tokenizer=tokenize_and_stem, ngram_range=(1,3))\n",
    "\n",
    "%time \n",
    "#fit the vectorizer to summaries\n",
    "tfidf_matrix = tfidf_vectorizer.fit_transform(summaries) \n",
    "\n",
    "tfidf_matrix.shape"
   ]
  },
  {
   "cell_type": "code",
   "execution_count": null,
   "metadata": {},
   "outputs": [],
   "source": []
  },
  {
   "cell_type": "code",
   "execution_count": 57,
   "metadata": {},
   "outputs": [],
   "source": [
    "#get list of features from the tf-idf matrix\n",
    "features = tfidf_vectorizer.get_feature_names()"
   ]
  },
  {
   "cell_type": "code",
   "execution_count": 58,
   "metadata": {},
   "outputs": [
    {
     "data": {
      "text/plain": [
       "['s', 'said']"
      ]
     },
     "execution_count": 58,
     "metadata": {},
     "output_type": "execute_result"
    }
   ],
   "source": [
    "features"
   ]
  },
  {
   "cell_type": "code",
   "execution_count": 53,
   "metadata": {},
   "outputs": [
    {
     "ename": "KeyboardInterrupt",
     "evalue": "",
     "output_type": "error",
     "traceback": [
      "\u001b[0;31m---------------------------------------------------------------------------\u001b[0m",
      "\u001b[0;31mKeyboardInterrupt\u001b[0m                         Traceback (most recent call last)",
      "\u001b[0;32m<ipython-input-53-995064b16a0d>\u001b[0m in \u001b[0;36m<module>\u001b[0;34m\u001b[0m\n\u001b[1;32m      2\u001b[0m \u001b[0;34m\u001b[0m\u001b[0m\n\u001b[1;32m      3\u001b[0m \u001b[0;32mfrom\u001b[0m \u001b[0msklearn\u001b[0m\u001b[0;34m.\u001b[0m\u001b[0mmetrics\u001b[0m\u001b[0;34m.\u001b[0m\u001b[0mpairwise\u001b[0m \u001b[0;32mimport\u001b[0m \u001b[0mcosine_similarity\u001b[0m\u001b[0;34m\u001b[0m\u001b[0;34m\u001b[0m\u001b[0m\n\u001b[0;32m----> 4\u001b[0;31m \u001b[0mdist\u001b[0m \u001b[0;34m=\u001b[0m \u001b[0;36m1\u001b[0m \u001b[0;34m-\u001b[0m \u001b[0mcosine_similarity\u001b[0m\u001b[0;34m(\u001b[0m\u001b[0mtfidf_matrix\u001b[0m\u001b[0;34m)\u001b[0m\u001b[0;34m\u001b[0m\u001b[0;34m\u001b[0m\u001b[0m\n\u001b[0m",
      "\u001b[0;32m~/anaconda3/lib/python3.7/site-packages/sklearn/metrics/pairwise.py\u001b[0m in \u001b[0;36mcosine_similarity\u001b[0;34m(X, Y, dense_output)\u001b[0m\n\u001b[1;32m    903\u001b[0m \u001b[0;34m\u001b[0m\u001b[0m\n\u001b[1;32m    904\u001b[0m     K = safe_sparse_dot(X_normalized, Y_normalized.T,\n\u001b[0;32m--> 905\u001b[0;31m                         dense_output=dense_output)\n\u001b[0m\u001b[1;32m    906\u001b[0m \u001b[0;34m\u001b[0m\u001b[0m\n\u001b[1;32m    907\u001b[0m     \u001b[0;32mreturn\u001b[0m \u001b[0mK\u001b[0m\u001b[0;34m\u001b[0m\u001b[0;34m\u001b[0m\u001b[0m\n",
      "\u001b[0;32m~/anaconda3/lib/python3.7/site-packages/sklearn/utils/extmath.py\u001b[0m in \u001b[0;36msafe_sparse_dot\u001b[0;34m(a, b, dense_output)\u001b[0m\n\u001b[1;32m    166\u001b[0m     \"\"\"\n\u001b[1;32m    167\u001b[0m     \u001b[0;32mif\u001b[0m \u001b[0msparse\u001b[0m\u001b[0;34m.\u001b[0m\u001b[0missparse\u001b[0m\u001b[0;34m(\u001b[0m\u001b[0ma\u001b[0m\u001b[0;34m)\u001b[0m \u001b[0;32mor\u001b[0m \u001b[0msparse\u001b[0m\u001b[0;34m.\u001b[0m\u001b[0missparse\u001b[0m\u001b[0;34m(\u001b[0m\u001b[0mb\u001b[0m\u001b[0;34m)\u001b[0m\u001b[0;34m:\u001b[0m\u001b[0;34m\u001b[0m\u001b[0;34m\u001b[0m\u001b[0m\n\u001b[0;32m--> 168\u001b[0;31m         \u001b[0mret\u001b[0m \u001b[0;34m=\u001b[0m \u001b[0ma\u001b[0m \u001b[0;34m*\u001b[0m \u001b[0mb\u001b[0m\u001b[0;34m\u001b[0m\u001b[0;34m\u001b[0m\u001b[0m\n\u001b[0m\u001b[1;32m    169\u001b[0m         \u001b[0;32mif\u001b[0m \u001b[0mdense_output\u001b[0m \u001b[0;32mand\u001b[0m \u001b[0mhasattr\u001b[0m\u001b[0;34m(\u001b[0m\u001b[0mret\u001b[0m\u001b[0;34m,\u001b[0m \u001b[0;34m\"toarray\"\u001b[0m\u001b[0;34m)\u001b[0m\u001b[0;34m:\u001b[0m\u001b[0;34m\u001b[0m\u001b[0;34m\u001b[0m\u001b[0m\n\u001b[1;32m    170\u001b[0m             \u001b[0mret\u001b[0m \u001b[0;34m=\u001b[0m \u001b[0mret\u001b[0m\u001b[0;34m.\u001b[0m\u001b[0mtoarray\u001b[0m\u001b[0;34m(\u001b[0m\u001b[0;34m)\u001b[0m\u001b[0;34m\u001b[0m\u001b[0;34m\u001b[0m\u001b[0m\n",
      "\u001b[0;32m~/anaconda3/lib/python3.7/site-packages/scipy/sparse/base.py\u001b[0m in \u001b[0;36m__mul__\u001b[0;34m(self, other)\u001b[0m\n\u001b[1;32m    480\u001b[0m             \u001b[0;32mif\u001b[0m \u001b[0mself\u001b[0m\u001b[0;34m.\u001b[0m\u001b[0mshape\u001b[0m\u001b[0;34m[\u001b[0m\u001b[0;36m1\u001b[0m\u001b[0;34m]\u001b[0m \u001b[0;34m!=\u001b[0m \u001b[0mother\u001b[0m\u001b[0;34m.\u001b[0m\u001b[0mshape\u001b[0m\u001b[0;34m[\u001b[0m\u001b[0;36m0\u001b[0m\u001b[0;34m]\u001b[0m\u001b[0;34m:\u001b[0m\u001b[0;34m\u001b[0m\u001b[0;34m\u001b[0m\u001b[0m\n\u001b[1;32m    481\u001b[0m                 \u001b[0;32mraise\u001b[0m \u001b[0mValueError\u001b[0m\u001b[0;34m(\u001b[0m\u001b[0;34m'dimension mismatch'\u001b[0m\u001b[0;34m)\u001b[0m\u001b[0;34m\u001b[0m\u001b[0;34m\u001b[0m\u001b[0m\n\u001b[0;32m--> 482\u001b[0;31m             \u001b[0;32mreturn\u001b[0m \u001b[0mself\u001b[0m\u001b[0;34m.\u001b[0m\u001b[0m_mul_sparse_matrix\u001b[0m\u001b[0;34m(\u001b[0m\u001b[0mother\u001b[0m\u001b[0;34m)\u001b[0m\u001b[0;34m\u001b[0m\u001b[0;34m\u001b[0m\u001b[0m\n\u001b[0m\u001b[1;32m    483\u001b[0m \u001b[0;34m\u001b[0m\u001b[0m\n\u001b[1;32m    484\u001b[0m         \u001b[0;31m# If it's a list or whatever, treat it like a matrix\u001b[0m\u001b[0;34m\u001b[0m\u001b[0;34m\u001b[0m\u001b[0;34m\u001b[0m\u001b[0m\n",
      "\u001b[0;32m~/anaconda3/lib/python3.7/site-packages/scipy/sparse/compressed.py\u001b[0m in \u001b[0;36m_mul_sparse_matrix\u001b[0;34m(self, other)\u001b[0m\n\u001b[1;32m    502\u001b[0m            \u001b[0mnp\u001b[0m\u001b[0;34m.\u001b[0m\u001b[0masarray\u001b[0m\u001b[0;34m(\u001b[0m\u001b[0mother\u001b[0m\u001b[0;34m.\u001b[0m\u001b[0mindptr\u001b[0m\u001b[0;34m,\u001b[0m \u001b[0mdtype\u001b[0m\u001b[0;34m=\u001b[0m\u001b[0midx_dtype\u001b[0m\u001b[0;34m)\u001b[0m\u001b[0;34m,\u001b[0m\u001b[0;34m\u001b[0m\u001b[0;34m\u001b[0m\u001b[0m\n\u001b[1;32m    503\u001b[0m            \u001b[0mnp\u001b[0m\u001b[0;34m.\u001b[0m\u001b[0masarray\u001b[0m\u001b[0;34m(\u001b[0m\u001b[0mother\u001b[0m\u001b[0;34m.\u001b[0m\u001b[0mindices\u001b[0m\u001b[0;34m,\u001b[0m \u001b[0mdtype\u001b[0m\u001b[0;34m=\u001b[0m\u001b[0midx_dtype\u001b[0m\u001b[0;34m)\u001b[0m\u001b[0;34m,\u001b[0m\u001b[0;34m\u001b[0m\u001b[0;34m\u001b[0m\u001b[0m\n\u001b[0;32m--> 504\u001b[0;31m            indptr)\n\u001b[0m\u001b[1;32m    505\u001b[0m \u001b[0;34m\u001b[0m\u001b[0m\n\u001b[1;32m    506\u001b[0m         \u001b[0mnnz\u001b[0m \u001b[0;34m=\u001b[0m \u001b[0mindptr\u001b[0m\u001b[0;34m[\u001b[0m\u001b[0;34m-\u001b[0m\u001b[0;36m1\u001b[0m\u001b[0;34m]\u001b[0m\u001b[0;34m\u001b[0m\u001b[0;34m\u001b[0m\u001b[0m\n",
      "\u001b[0;31mKeyboardInterrupt\u001b[0m: "
     ]
    }
   ],
   "source": [
    "#find cosine similarity \n",
    "\n",
    "from sklearn.metrics.pairwise import cosine_similarity\n",
    "dist = 1 - cosine_similarity(tfidf_matrix)\n"
   ]
  },
  {
   "cell_type": "code",
   "execution_count": null,
   "metadata": {},
   "outputs": [],
   "source": [
    "dist"
   ]
  }
 ],
 "metadata": {
  "kernelspec": {
   "display_name": "Python 3",
   "language": "python",
   "name": "python3"
  },
  "language_info": {
   "codemirror_mode": {
    "name": "ipython",
    "version": 3
   },
   "file_extension": ".py",
   "mimetype": "text/x-python",
   "name": "python",
   "nbconvert_exporter": "python",
   "pygments_lexer": "ipython3",
   "version": "3.7.2"
  }
 },
 "nbformat": 4,
 "nbformat_minor": 2
}
