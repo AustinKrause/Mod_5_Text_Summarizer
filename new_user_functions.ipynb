{
 "cells": [
  {
   "cell_type": "code",
   "execution_count": 6,
   "metadata": {},
   "outputs": [
    {
     "name": "stderr",
     "output_type": "stream",
     "text": [
      "[nltk_data] Downloading package punkt to\n",
      "[nltk_data]     /Users/austinkrause/nltk_data...\n",
      "[nltk_data]   Unzipping tokenizers/punkt.zip.\n"
     ]
    }
   ],
   "source": [
    "import pandas as pd\n",
    "import requests\n",
    "from bs4 import BeautifulSoup\n",
    "import pickle\n",
    "import nltk\n",
    "nltk.download('punkt')\n",
    "from nltk import sent_tokenize, word_tokenize\n",
    "from nltk.corpus import stopwords\n",
    "from string import punctuation\n",
    "import numpy as np\n",
    "import re\n",
    "from sklearn import feature_extraction\n",
    "import matplotlib.pyplot as plt\n",
    "%matplotlib inline\n",
    "from sklearn.metrics import pairwise_distances_argmin_min\n",
    "from sklearn.metrics.pairwise import cosine_similarity\n",
    "from sklearn.feature_extraction.text import TfidfVectorizer\n",
    "from sklearn.feature_extraction import text\n",
    "from sklearn.feature_extraction.text import TfidfVectorizer\n",
    "import numpy as np\n",
    "from nltk.stem import PorterStemmer\n",
    "from nltk.corpus import words"
   ]
  },
  {
   "cell_type": "code",
   "execution_count": 7,
   "metadata": {},
   "outputs": [],
   "source": [
    "import os"
   ]
  },
  {
   "cell_type": "code",
   "execution_count": 8,
   "metadata": {},
   "outputs": [
    {
     "name": "stdout",
     "output_type": "stream",
     "text": [
      "['new_user_functions.ipynb', 'scratch_notebook.ipynb', '.DS_Store', 'summarizer_cosine_similarity.ipynb', 'Images', 'Text_Cleaning_and_KMeans.ipynb', 'df_with_gensim_summaries.csv', 'kmeans_df.csv', 'df_with_stems_final.csv', 'full_df_with_gensim_summaries.csv', 'Models', 'README.md', 'df_english_articles.csv', '.gitignore', 'DB_Cleaning_EDA.ipynb', 'xgboost_model.sav', '.ipynb_checkpoints', 'classification_models.ipynb', 'all-the-news.db', '.git', 'Data', 'Notebooks', 'df_with_lemmings.csv']\n"
     ]
    }
   ],
   "source": [
    "contents = os.listdir()\n",
    "print(contents)"
   ]
  },
  {
   "cell_type": "code",
   "execution_count": 4,
   "metadata": {},
   "outputs": [],
   "source": [
    "#load in our xgb classification model\n",
    "xgb = pickle.load(open(\"xgboost_model.sav\", \"rb\"))"
   ]
  },
  {
   "cell_type": "code",
   "execution_count": 9,
   "metadata": {},
   "outputs": [],
   "source": [
    "def create_soup(url):\n",
    "    facts = requests.get(url)\n",
    "    soup = BeautifulSoup(facts.content, 'html.parser')\n",
    "    return soup"
   ]
  },
  {
   "cell_type": "code",
   "execution_count": 124,
   "metadata": {},
   "outputs": [],
   "source": [
    "def get_article_text(url):\n",
    "    #url = input('Enter a url: \\n')\n",
    "    soup = create_soup(url)\n",
    "    \n",
    "    text = []\n",
    "    for i in soup.find_all('p'):\n",
    "        text.append(i.get_text())\n",
    "\n",
    "    full_text = ' '.join(text).replace('\\xa0', '')\n",
    "    return full_text"
   ]
  },
  {
   "cell_type": "code",
   "execution_count": null,
   "metadata": {},
   "outputs": [],
   "source": []
  },
  {
   "cell_type": "code",
   "execution_count": 12,
   "metadata": {},
   "outputs": [],
   "source": [
    "#set stop words\n",
    "stops = list(set(stopwords.words('english'))) + list(punctuation)"
   ]
  },
  {
   "cell_type": "code",
   "execution_count": 13,
   "metadata": {},
   "outputs": [],
   "source": [
    "stemmer = PorterStemmer()"
   ]
  },
  {
   "cell_type": "code",
   "execution_count": 14,
   "metadata": {},
   "outputs": [],
   "source": [
    "#helper function to remove stop words\n",
    "def remove_stops(text):\n",
    "    text_no_stops = []\n",
    "    for i in text:\n",
    "        i = i.lower()\n",
    "        if i not in stops:\n",
    "            if len(i) == 1:\n",
    "                pass\n",
    "            else:\n",
    "                text_no_stops.append(i)\n",
    "        else:\n",
    "            pass\n",
    "    return text_no_stops"
   ]
  },
  {
   "cell_type": "code",
   "execution_count": 15,
   "metadata": {},
   "outputs": [],
   "source": [
    "#helper function to lemmatize text\n",
    "def lemmatize_text(text):\n",
    "    lemmatized = []\n",
    "    for word in text:\n",
    "        lemmatized.append(lemmatizer.lemmatize(word))\n",
    "    return lemmatized"
   ]
  },
  {
   "cell_type": "code",
   "execution_count": 16,
   "metadata": {},
   "outputs": [],
   "source": [
    "#create helper function to stem each word in a list and concat the list\n",
    "def stem_list(lst):\n",
    "    stemmed_list = []\n",
    "    for i in lst:\n",
    "        stemmed_list.append(stemmer.stem(i))\n",
    "    stem_string = ' '.join(stemmed_list[:100])\n",
    "    return stem_string"
   ]
  },
  {
   "cell_type": "code",
   "execution_count": 17,
   "metadata": {},
   "outputs": [],
   "source": [
    "#function to perform lemmatization, stemming, and final preprocessing\n",
    "def xgb_text_prep(sample_text):\n",
    "    tokens = word_tokenize(str(sample_text), language = 'en')\n",
    "    no_stops = remove_stops(tokens)\n",
    "    stemmed = stem_list(no_stops)\n",
    "    #stemmed = stemmed.replace('\\\\n', '')\n",
    "    return [stemmed]\n",
    "    #return no_stops"
   ]
  },
  {
   "cell_type": "code",
   "execution_count": 96,
   "metadata": {},
   "outputs": [],
   "source": [
    "#function for xgboost prdiction\n",
    "def get_xgb_prediction(text):\n",
    "    preprocess = xgb_text_prep([text])\n",
    "    return xgb.predict(preprocess)[0]"
   ]
  },
  {
   "cell_type": "code",
   "execution_count": 19,
   "metadata": {},
   "outputs": [],
   "source": [
    "#find cosine similarities between sentences\n",
    "def find_similarities(text):\n",
    "    #tokenize sentences\n",
    "    sentences = sent_tokenize(text, language = 'en')\n",
    "    \n",
    "    #vectorize sentences\n",
    "    vectorizer = TfidfVectorizer(stop_words = stops)\n",
    "    trsfm=vectorizer.fit_transform(sentences)\n",
    "    #creat df for article\n",
    "    text_df = pd.DataFrame(trsfm.toarray(),columns=vectorizer.get_feature_names(),index=sentences)\n",
    "    \n",
    "    #declare how many sentences to use in summary\n",
    "    num_sentences = text_df.shape[0]\n",
    "    num_summary_sentences = int(np.ceil(num_sentences**.5))\n",
    "        \n",
    "    #find cosine similarity for all sentences\n",
    "    similarities = cosine_similarity(trsfm, trsfm)\n",
    "    #print(similarities)\n",
    "    #create list to hold avg cosine similarities for each sentence\n",
    "    avgs = []\n",
    "    for i in similarities:\n",
    "        avgs.append(i.mean())\n",
    "     \n",
    "    #find index values of the sentences to be used for summary\n",
    "    top_idx = np.argsort(avgs)[-num_summary_sentences:]\n",
    "    \n",
    "    return top_idx"
   ]
  },
  {
   "cell_type": "code",
   "execution_count": 77,
   "metadata": {},
   "outputs": [],
   "source": [
    "def build_summary(text):\n",
    "    sents_for_sum = find_similarities(text)\n",
    "    sort = sorted(sents_for_sum)\n",
    "    #print('\\n Sentences selected:', sort)\n",
    "    \n",
    "    sent_list = sent_tokenize(text)\n",
    "    num_sents = len(sent_list)\n",
    "    \n",
    "    sents = []\n",
    "    for i in sort:\n",
    "        sents.append(sent_list[i].replace('\\n', ''))\n",
    "    \n",
    "    summary = ' '.join(sents)\n",
    "    return sort, num_sents, summary"
   ]
  },
  {
   "cell_type": "code",
   "execution_count": 125,
   "metadata": {},
   "outputs": [],
   "source": [
    "def xgb_and_summary(url):\n",
    "    text = get_article_text(url)\n",
    "    \n",
    "    xgb_preprocess = xgb_text_prep(text)\n",
    "    sents, num_sents, summary = build_summary(text)\n",
    "    xgb_predict = get_xgb_prediction(text)\n",
    "    \n",
    "    return url, sents, num_sents, xgb_predict, summary"
   ]
  },
  {
   "cell_type": "markdown",
   "metadata": {},
   "source": [
    "TEST ARTICLE 1 --- Supreme Court --- returns cluster 7\n",
    "https://news.yahoo.com/u-supreme-court-spurns-virginia-143413283.html;_ylt=AwrC0COK7wddIj8AGCPQtDMD;_ylu=X3oDMTEydGhybm9tBGNvbG8DYmYxBHBvcwMxBHZ0aWQDQjc2MDlfMQRzZWMDc3I-\n",
    "\n",
    "TEST ARTICLE 2 --- Donald Trump --- returns cluster 1\n",
    "https://news.yahoo.com/trump-says-d-foreigners-offer-233911079.html;_ylt=AwrC1C7Y8AddADIAoS_QtDMD;_ylu=X3oDMTEyaTE5czNyBGNvbG8DYmYxBHBvcwM0BHZ0aWQDQjc2MDlfMQRzZWMDc3I-\n",
    "\n",
    "TEST ARTICLE 3 --- Syria --- returns cluster 11\n",
    "https://news.yahoo.com/turkish-outpost-syria-shelled-syrian-080926968.html;_ylt=AwrC0wwt8gdd2WgAkwHQtDMD;_ylu=X3oDMTEydGhybm9tBGNvbG8DYmYxBHBvcwMxBHZ0aWQDQjc2MDlfMQRzZWMDc3I-\n",
    "\n",
    "TEST ARTICLE 4 --- Birth Control Health Insurance --- returns cluster 3\n",
    "https://news.yahoo.com/democrat-warren-wants-7-billion-134454649.html;_ylt=AwrC1DGZ8gddwlsAJwLQtDMD;_ylu=X3oDMTEydDBqZzZmBGNvbG8DYmYxBHBvcwMyBHZ0aWQDQjc2MDlfMQRzZWMDc3I-\n",
    "\n",
    "TEST ARTICLE 5 --- Bernie Sanders --- returns cluster 3\n",
    "https://news.yahoo.com/sanders-outline-democratic-socialism-means-045302693.html;_ylt=AwrC0CMD4whdTSoALAHQtDMD;_ylu=X3oDMTEydDBqZzZmBGNvbG8DYmYxBHBvcwMyBHZ0aWQDQjc2MDlfMQRzZWMDc3I-"
   ]
  },
  {
   "cell_type": "code",
   "execution_count": 126,
   "metadata": {
    "scrolled": true
   },
   "outputs": [
    {
     "data": {
      "text/plain": [
       "('https://www.nytimes.com/2019/06/17/books/review/kate-atkinson-jackson-brodie-big-sky.html',\n",
       " [0, 2, 4, 14, 23, 32, 34],\n",
       " 43,\n",
       " 3,\n",
       " 'Advertisement Supported by By Janet Maslin There’s a spoiled little girl in “Big Sky,” the long-overdue fifth book in Kate Atkinson’s irresistible Jackson Brodie private eye series, who has a closet full of princess costumes. Atkinson sneaks this into “Big Sky” so casually that it doesn’t resonate until exactly when the author wants it to. in all the Brodie books, but it’s never worked better than it does in “Big Sky.” That’s because Brodie’s past is by now very complicated. Atkinson has said that she loves Netflix, attributes the same feeling to Brodie, and has had a previous Brodie book, “Case Histories,” adapted for PBS. There is no stray anything in “Big Sky.” That’s one big reason Atkinson’s devotees love her. Brodie has been Atkinson’s most popular character for good reason. Atkinson opens “Big Sky” with one perfect page.')"
      ]
     },
     "execution_count": 126,
     "metadata": {},
     "output_type": "execute_result"
    }
   ],
   "source": [
    "xgb_and_summary('https://www.nytimes.com/2019/06/17/books/review/kate-atkinson-jackson-brodie-big-sky.html')"
   ]
  },
  {
   "cell_type": "code",
   "execution_count": null,
   "metadata": {},
   "outputs": [],
   "source": []
  },
  {
   "cell_type": "code",
   "execution_count": 144,
   "metadata": {},
   "outputs": [
    {
     "data": {
      "application/javascript": [
       "IPython.OutputArea.auto_scroll_threshold = 9999;\n"
      ],
      "text/plain": [
       "<IPython.core.display.Javascript object>"
      ]
     },
     "metadata": {},
     "output_type": "display_data"
    }
   ],
   "source": [
    "%%javascript\n",
    "IPython.OutputArea.auto_scroll_threshold = 9999;"
   ]
  },
  {
   "cell_type": "code",
   "execution_count": 32,
   "metadata": {},
   "outputs": [],
   "source": [
    "def get_ny_articles(url):\n",
    "    page = create_soup(url)\n",
    "    #a= page.find_all('a', href = True)\n",
    "    \n",
    "    ny_times_links = []\n",
    "    for a in page.find_all('a', href=True):\n",
    "        ny_times_links.append(a['href'])\n",
    "    \n",
    "    ny_times_articles = []\n",
    "    for i in ny_times_links:\n",
    "        if i[0] == '/' and len(i)>2 and i.endswith('Container') == False:\n",
    "            ny_times_articles.append(url+i)\n",
    "    \n",
    "    article_set = list(set(ny_times_articles))\n",
    "    return article_set"
   ]
  },
  {
   "cell_type": "code",
   "execution_count": 142,
   "metadata": {},
   "outputs": [],
   "source": [
    "def get_all_summaries(url):\n",
    "    summaries = []\n",
    "    for i in get_ny_articles(url):\n",
    "        summaries.append(xgb_and_summary(i))\n",
    "    \n",
    "    for i in summaries:\n",
    "        print('url:', i[0])\n",
    "        print('sentences selected:', i[1])\n",
    "        print('total sentences:', i[2])\n",
    "        print('cluster prediction:', i[3])\n",
    "        print('summary:', i[4])\n",
    "        print('------------------------------------\\n')\n",
    "    #return summaries"
   ]
  },
  {
   "cell_type": "code",
   "execution_count": null,
   "metadata": {},
   "outputs": [],
   "source": []
  },
  {
   "cell_type": "code",
   "execution_count": 157,
   "metadata": {},
   "outputs": [
    {
     "name": "stdout",
     "output_type": "stream",
     "text": [
      "url: https://www.nytimes.com/interactive/2019/us/politics/2020-candidate-interviews.html\n",
      "sentences selected: [0, 1, 2, 4]\n",
      "total sentences: 14\n",
      "cluster prediction: 3\n",
      "summary: JUNE 19, 2019 We tracked down the 2020 Democrats and asked them the same set of questions. We tracked down the 2020 Democrats and asked them the same set of questions. We tracked down the 2020 Democrats and asked them the same set of questions. Former housing secretary   Mayor of New York City   Former congressman from Maryland   Congresswoman from Hawaii   Senator from New York   Senator from California   Former governor of Colorado   Governor of Washington State   Senator from Minnesota   Congressman from Massachusetts   Former congressman from Texas   Congressman from Ohio   Senator from Vermont   Congressman from California   Senator from Massachusetts   Self-help author   Former tech executive  The New York Times reached out to 22 Democratic presidential candidates to ask them the same set of questions on video.\n",
      "------------------------------------\n",
      "\n",
      "url: https://www.nytimes.com/interactive/2019/nyregion/pride-walk-nyc.html\n",
      "sentences selected: [0, 1]\n",
      "total sentences: 4\n",
      "cluster prediction: 3\n",
      "summary:       By THE NEW YORK TIMESJUNE 14, 2019 This Pride month, we’ll take you to important locations in L.G.B.T.Q. history and tell you the stories about the gay New Yorkers, icons and activists who lived and worked there.\n",
      "------------------------------------\n",
      "\n",
      "url: https://www.nytimes.com/2019/06/18/us/politics/donald-trump-rally-orlando.html\n",
      "sentences selected: [0, 1, 4, 20, 24, 33, 43, 55]\n",
      "total sentences: 59\n",
      "cluster prediction: 1\n",
      "summary: Advertisement Supported by By Maggie Haberman, Annie Karni and Michael D. Shear ORLANDO, Fla. — President Trump delivered a fierce denunciation of the news media, the political establishment and what he called his radical opponents on Tuesday as he opened his re-election campaign in front of a huge crowd of raucous supporters by evoking the dark messaging and personal grievances that animated his 2016 victory. Almost four years to the day since he announced his first, improbable run for public office from the basement of Trump Tower in Manhattan, Mr. Trump mocked and disparaged Democrats, calling them the leaders of an “angry, left-wing mob” and declaring that the 2020 election will be a “verdict on the un-American conduct of those who tried to undermine our great democracy, undermine you.” He extolled his record as president — the growing economy, the tax cuts and deregulation — but did not offer any new policies or a cohesive agenda for a second term that might expand his political appeal. “Our political opponents look down with hatred on our values and with utter disdain for the people whose lives they want to run,” Mr. Trump told a packed arena, later mocking Joseph R. Biden Jr., the former vice president and a Democratic rival for the presidency, as “Sleepy Joe.” [Fact-checking Trump’s campaign kickoff rally: Russia, the wall and more.] He said the Democratic position on immigration was “the greatest betrayal of the American middle class and, frankly, American life.” But for Mr. Trump, the rally was the beginning of what polls suggest will be a difficult 18 months as he seeks another four years in the White House. Instead, Mr. Trump is betting that the 2020 campaign will be a “Back to the Future” replay of the 2016 one, when a reality TV star and New York real estate mogul campaigned as a disrupter with nothing to lose and shook the political establishment to its core. Some had been die-hard supporters since Mr. Trump opened his previous bid in 2015. Without a new message or a clear agenda for a second term, Mr. Trump’s advisers are banking on the belief that the same basic playbook — Mr. Trump’s preternatural ability to shock and entertain — will again animate his core voters and retain the swing voters who gambled on him in 2016. “We are going to keep on working,” Mr. Trump vowed.\n",
      "------------------------------------\n",
      "\n",
      "url: https://www.nytimes.com/2019/06/19/world/middleeast/jamal-khashoggi-Mohammed-bin-Salman.html\n",
      "sentences selected: [0, 2, 8, 11, 25, 26]\n",
      "total sentences: 28\n",
      "cluster prediction: 3\n",
      "summary: Advertisement Supported by By Nick Cumming-Bruce GENEVA — Saudi Arabia is responsible for the murder of Jamal Khashoggi in its Istanbul consulate last year, and there is “credible evidence” justifying an investigation into the role of the Saudi crown prince, Mohammed bin Salman, a United Nations expert said in a report released on Wednesday. “There is credible evidence warranting further investigation of high-level Saudi officials’ individual liability, including the crown prince’s,” Ms. Callamard said in a 100-page report, issued after a five-month investigation. Saudi officials said at first that Mr. Khashoggi had left the consulate alive and denied any knowledge of his whereabouts, but they later admitted that he had been killed in the building after what they said was a botched mission to bring him back to Saudi Arabia. Khashoggi’s killing constituted an extrajudicial killing for which the state of the Kingdom of Saudi Arabia is responsible,” and may also have been an act of torture under international treaties, Ms. Callamard wrote. Ms. Callamard also called on the international community to impose targeted sanctions on Saudi officials said to have been involved in the murder, including Prince Mohammed. The sanctions should focus on the prince’s personal assets abroad “until and unless evidence has been produced that he bears no responsibility for the execution of Mr. Khashoggi.” Ms. Callamard is to present her findings to the Human Rights Council in Geneva next week in a session that will also be addressed by Ms. Cengiz, Mr. Khashoggi’s fiancé.\n",
      "------------------------------------\n",
      "\n",
      "url: https://www.nytimes.com/2019/06/18/opinion/trump-iran-north-korea.html\n",
      "sentences selected: [2, 3, 11, 12, 14, 35, 42, 47]\n",
      "total sentences: 58\n",
      "cluster prediction: 11\n",
      "summary: For him, it was obvious that Barack Obama did not have what it takes to push back Iran and North Korea, and Trump would show everyone how it’s done. He told the North Koreans that if the U.S. was forced to defend itself and its allies from a missile attack, “we will have no choice but to totally destroy North Korea.” And regarding Iran, he tweeted, “If Iran wants to fight, that will be the official end of Iran.” Wow — the official end of Iran! What we are seeing in the case of Iran and North Korea are all the weaknesses of having a president who on some foreign policy issues has the right instincts — as in the need to confront China on trade or a desire to improve the Iran deal — but who embarks on initiatives without a thought-through plan or clear-cut end goals, without a strong national security team to implement what he wants, without a broad coalition of allies needed to sustain any long confrontation, and without even the remotest understanding of one of former Defense Secretary Jim Mattis’s cardinal rules of warfare: “The enemy gets a vote.” Let’s break all of this down. Do you have any idea if Trump’s goal in either Iran or North Korea is, as Robert Litwak, the Wilson Center’s expert on rogue states, has asked, “transformational regime change” or a “transactional deal,” whereby we would actually have to give up something in order to get something in return. After Trump withdrew America from the Iran nuclear deal — even though Iran was abiding by its terms — his ambitious, sycophantic secretary of state, Mike Pompeo, gave a speech listing the 12 ways Iran had to change at home and abroad — demands that were tantamount to regime change. As with Iran, Litwak says, the way out of the North Korea impasse is to pivot from the transformational goal — complete denuclearization up front — to the transactional — a verified freeze of North Korea’s nuclear arsenal and missile program to prevent a bad situation from getting worse. Had Trump limited himself to a good little fix of the Iran deal that would have kept Iran’s nuclear program on ice for 25 years, had he not set out to transform Iran to prove that he could radically outdo Obama, we’d be in a lot better place than we are now. So memo to Trump: If you want to one-up Obama, the only way you’re going to do it is at the negotiating table, where, to succeed, you’ll have to strike the same kind of transactional deal that Obama did.\n",
      "------------------------------------\n",
      "\n",
      "url: https://www.nytimes.com/2019/06/19/opinion/amazon-rekognition-tim-cook.html\n",
      "sentences selected: [13, 16, 17, 28, 29, 30, 32]\n",
      "total sentences: 40\n",
      "cluster prediction: 3\n",
      "summary: “You could use a knife in a surreptitious way,” he said. Mr. Jassy said the company would double down on the deployment of the new product, a growing business for Amazon, despite increasing worries, including from some of its own employees, about how it could be abused. “I strongly believe that just because tech could be misused doesn’t mean we should ban it and condemn it,” said Mr. Jassy, urging the federal government to create a national law to govern its use if it was concerned. Appearing after Mr. Jassy, Mr. Ryan said he was struck by the attitude of too many tech execs like him, especially given how high the stakes are as the situation at the border becomes ever more dire. Pointing out that companies like Amazon, Salesforce, Microsoft, Palantir and others have been supplying the immigration agencies with all kinds of software, devices and services, some of which may have been used to help separate children from their families, Mr. Ryan said he was perplexed as to why tech companies did not have more of an ethical conscience. “I think that what the companies right now that are holding the power need to recognize is that the government could not do what it is doing now without them,” he said. Mr. Ryan’s colleague Erika Andiola noted that the tech companies’ tools are helping a “machine of deportation.” “If tech wants to walk hand in hand with our government in this experiment in tyranny,” Mr. Ryan told the crowd, “then go for it.” But, if you want to use Mr. Jassy’s metaphor instead, tech might want to consider this: Trying to catch these kinds of falling knives — and fall they will eventually — is likely to be pretty painful.\n",
      "------------------------------------\n",
      "\n",
      "url: https://www.nytimes.com/2019/06/18/us/trump-falwell-endorsement-michael-cohen.html\n",
      "sentences selected: [15, 18, 29, 30, 31, 67, 96, 98, 104, 109, 110, 130]\n",
      "total sentences: 136\n",
      "cluster prediction: 3\n",
      "summary: That attempt, Mr. Cohen says on the recording, came months before he brought Mr. Falwell “to the table” for Mr. Trump. But the new details — some of which have been reported by news outlets including BuzzFeed and Reuters over the last year — show how deeply Mr. Falwell was enmeshed in Mr. Cohen’s and Mr. Trump’s world. Mr. Falwell has said there were no compromising photographs, and the person close to them, who would speak only on the condition of anonymity, said the Falwells “did not know anything about Mr. Cohen’s alleged efforts” on their behalf. Mr. Falwell’s endorsement of Mr. Trump, the person said, was made after careful consideration. Mr. Cohen, he said, “did not try to exert any inappropriate pressure.” Mr. Falwell began to grow close to Mr. Trump and Mr. Cohen after Mr. Trump came to speak at Liberty, in Lynchburg, Va., in 2012. Mr. Cohen had kept in close touch with the Falwells after Mr. Trump’s 2012 visit. Around that time, Mr. Falwell was coming under heavy pressure to get behind Mr. Trump, according to someone who spoke to Mr. Falwell then. What’s more, he said, Mr. Cohen “did nothing more than ask” Mr. Falwell to endorse Mr. Trump. Mr. Trump sought to make Mr. Falwell his secretary of education, Mr. Falwell has said. The complaint, first reported by BuzzFeed News several months after it was filed, asserted that “verbal offers were made to Granda to provide him with financial assistance.” Mr. Falwell, the complaint read, “indicated that he wanted to help Granda establish a new career and build a business” as the Falwells’ relationship with Mr. Granda “evolved.” In his sworn affidavit, Mr. Falwell said the family had made Mr. Granda a co-manager of the LLC in return for serving as its local representative. Mr. Falwell saw the hostel as a good opportunity to introduce his son and Mr. Granda to real estate investing, according to the person close to the family. Mr. Falwell has granted only one interview about the Arnold recording, to Todd Starnes of Fox News Radio, telling him there were “no compromising or embarrassing photos,” and saying, “We never engaged or paid Cohen to represent us in any legal or other professional capacity.” The new details about the lead-up to his endorsement of Mr. Trump have not affected Mr. Falwell’s continued enthusiastic support.\n",
      "------------------------------------\n",
      "\n",
      "url: https://www.nytimes.com/2019/06/17/books/review/kate-atkinson-jackson-brodie-big-sky.html\n",
      "sentences selected: [1, 3, 5, 15, 24, 33, 35]\n",
      "total sentences: 44\n",
      "cluster prediction: 3\n",
      "summary: There’s a spoiled little girl in “Big Sky,” the long-overdue fifth book in Kate Atkinson’s irresistible Jackson Brodie private eye series, who has a closet full of princess costumes. Atkinson sneaks this into “Big Sky” so casually that it doesn’t resonate until exactly when the author wants it to. in all the Brodie books, but it’s never worked better than it does in “Big Sky.” That’s because Brodie’s past is by now very complicated. Atkinson has said that she loves Netflix, attributes the same feeling to Brodie, and has had a previous Brodie book, “Case Histories,” adapted for PBS. There is no stray anything in “Big Sky.” That’s one big reason Atkinson’s devotees love her. Brodie has been Atkinson’s most popular character for good reason. Atkinson opens “Big Sky” with one perfect page.\n",
      "------------------------------------\n",
      "\n",
      "url: https://www.nytimes.com/2019/06/18/opinion/republican-party-women.html\n",
      "sentences selected: [4, 5, 7, 12, 15, 18, 36]\n",
      "total sentences: 45\n",
      "cluster prediction: 3\n",
      "summary: A fourth-term lawmaker, she is one of only 13 women out of 198 House Republicans. (Of 235 House Democrats, 89 are women.) Most awkwardly, as head of recruitment for the National Republican Congressional Committee, or N.R.C.C., she is in charge of persuading women to run for office on the Republican line. “Susan has assured me that she will be increasing her recruitment efforts,” said Representative Tom Emmer, the committee’s chairman, “so we are full steam ahead.” The Trump era has been rough for the Republican Party’s efforts to address its enduring difficulties in attracting women candidates and voters. The shift by white, college-educated women voters away from Republicans played a significant role in handing control of the House to Democrats. While Ms. Brooks led the recruitment charge at the N.R.C.C., Elise Stefanik of New York, the committee’s previous recruitment chief, rebranded her leadership PAC to bolster women in primary races. The Democratic campaign committees for both the House and Senate are led by women.\n",
      "------------------------------------\n",
      "\n",
      "url: https://www.nytimes.com/2019/06/19/opinion/facebook-google-privacy.html\n",
      "sentences selected: [0, 4, 14, 24, 30, 39, 41, 42]\n",
      "total sentences: 52\n",
      "cluster prediction: 3\n",
      "summary: Advertisement Supported by The big ad-tech companies know how to sell ads without damaging privacy, but they choose not to. By contrast, it is the big ad-tech companies — especially Facebook and Google — that do not want to make it easy for consumers to avoid profiling, because their business models rely on it. of Northern California put it, “A privacy law shouldn’t have a targeted advertisement exception for the same reason that an environmental law shouldn’t have a coal mining exception.” Groups like the Information Technology and Innovation Foundation, which has board members from several big tech companies, are lobbying in Washington for similar ad-tech exemptions federally, as The Verge has reported. Strong privacy laws will force the digital advertising industry to return to its roots in contextual advertising. Once people are allowed to opt out of behavioral advertising, then online ads for those who do can go back to being more like non-creepy contextual search ads. Companies with good privacy practices in their DNA do not face significant compliance costs. When contextual advertising regains prominence, more companies will be able to compete against Facebook’s and Google’s ad networks because they won’t need huge troves of personal data to do so. Additionally, strong privacy laws will spur innovations to help companies use data in a privacy-respecting manner.\n",
      "------------------------------------\n",
      "\n",
      "url: https://www.nytimes.com/2019/06/19/podcasts/the-daily/donald-trump-rally-orlando.html\n",
      "sentences selected: [0, 3, 8, 10]\n",
      "total sentences: 16\n",
      "cluster prediction: 1\n",
      "summary: Advertisement Listen and subscribe to our podcast from your mobile device: Via Apple Podcasts | Via RadioPublic | Via Stitcher The president kicked off his re-election campaign on Tuesday with a rally in Orlando, Fla. We spoke with a colleague who was there. On today’s episode: Maggie Haberman, who covers the White House for The New York Times. Email us at thedaily@nytimes.com. And if you’re interested in advertising with “The Daily,” write to us at thedaily-ads@nytimes.com.\n",
      "------------------------------------\n",
      "\n",
      "url: https://www.nytimes.com/2019/06/18/us/politics/orlando-rally-trump-campaign.html\n",
      "sentences selected: [2, 3, 4, 12, 19, 32]\n",
      "total sentences: 34\n",
      "cluster prediction: 1\n",
      "summary: Die-hard supporters bussed in from across the state on Tuesday to celebrate the “official” kickoff of Mr. Trump’s 2020 campaign appeared frozen in time, reliving Mr. Trump’s surprise victory over Hillary Clinton. The evening rally, a supersize version of the “Make America Great Again” rallies Mr. Trump has been staging in red states since the beginning of his presidency, was meant to energize the president and consolidate support in a must-win state where Mr. Trump’s numbers are still softer than his advisers would like them to be. But the vibe — the red caps and campaign slogan, a refreshed but familiar playlist featuring “Eye of the Tiger” and “My Way” on loop, an invocation by the megachurch pastor Paula White — was that Mr. Trump and his supporters really wanted to relive their surprise 2016 victory . Mr. Trump’s daughter-in-law, Lara Trump, who is married to Eric Trump, was the first, reminiscing about the now iconic escalator ride four years ago in Trump Tower when Mr. Trump announced his candidacy. Sarah Huckabee Sanders, Mr. Trump’s departing press secretary who has been with Mr. Trump since his last campaign, wrote wistfully on Twitter that this was to be her final flight with the president. She previously covered the White House and Hillary Clinton’s 2016 presidential campaign for Politico, and spent a decade reporting on local news and politics in New York City.\n",
      "------------------------------------\n",
      "\n",
      "url: https://www.nytimes.com/2019/06/19/briefing/donald-trump-federal-reserve-hope-hicks.html\n",
      "sentences selected: [0, 3, 16, 26, 38, 50, 69, 73, 75]\n",
      "total sentences: 79\n",
      "cluster prediction: 3\n",
      "summary: Advertisement Supported by By Chris Stanford (Want to get this briefing by email? We’re covering the start of President Trump’s re-election campaign, a new leader at the Pentagon, and New York’s ambitious plan to reduce greenhouse gas emissions. International prosecutors announced today that four men will face murder charges in the downing of a Malaysia Airlines flight over Ukraine five years ago, killing 298 people. Mr. Shanahan, a former Boeing executive, said on Tuesday that his “continuation in the confirmation process would force my three children to relive a traumatic chapter in our family’s life and reopen wounds we have worked years to heal.” What’s next: Mark Esper was elevated from his job as Army secretary to be acting defense secretary. Hope Hicks to testify: One of President Trump’s closest former advisers is scheduled to appear before the House Judiciary Committee today behind closed doors. Both are improvements over what’s on offer in New York, our critic writes. — Chris Thank youMelina Delkic helped compile today’s briefing. P.S.• We’re listening to “The Daily.” Today’s episode is about President Trump’s rally on Tuesday.• Here’s today’s Mini Crossword, and a clue: British prime minister who recently announced her resignation (3 letters). • Michael Barbaro, the host of “The Daily,” appeared last week on the BBC podcast “Beyond Today.” Chris Stanford writes the U.S. edition of the Morning Briefing.\n",
      "------------------------------------\n",
      "\n",
      "url: https://www.nytimes.com/2019/06/19/us/politics/2020-democratic-candidate-interviews.html\n",
      "sentences selected: [5, 9, 21, 25, 27, 30, 34, 51]\n",
      "total sentences: 58\n",
      "cluster prediction: 3\n",
      "summary: Here’s What They Said.] Senator Bernie Sanders of Vermont denounced the country’s “grotesque levels of income and wealth inequality,” while Senator Kirsten Gillibrand of New York said bluntly that “no one deserves to have a billion dollars.” But other Democrats called the pursuit of immense wealth a vital American trait: John Hickenlooper, the former Colorado governor, said Americans had “always had these aspirational values to make a billion dollars.” Senator Amy Klobuchar of Minnesota said Americans deserve to “work hard and make money, and they can make a billion dollars.” And most of the Democrats said the wealthy should pay more in taxes. [See their responses on the size of the Supreme Court.] Fewer than half of the 21 candidates interviewed explicitly said that they were open to the idea, including all four female senators in the race: Ms. Warren, Kamala Harris of California, Ms. Klobuchar and Ms. Gillibrand. Many others, including Mr. Sanders, Mr. O’Rourke and Mr. Booker, said they were against the notion. [See their responses on troops in Afghanistan and Israel’s record on human rights.] Some candidates — including Ms. Warren, Ms. Gillibrand and Julián Castro, the former housing secretary—said definitively that there would not be American troops in Afghanistan at the end of their first term. Ms. Klobuchar named baked potatoes as her comfort food, while Ms. Harris confessed, “I love a good French fry.” And for relaxation, their favorite activities ranged from the ordinary — Mr. O’Rourke said he listens to music, while Mr. Buttigieg said he watched “Game of Thrones” — to the idiosyncratic.\n",
      "------------------------------------\n",
      "\n",
      "url: https://www.nytimes.com/2019/06/19/opinion/trump-2020-announcement.html\n",
      "sentences selected: [0, 3, 5, 14, 19, 22, 30, 48]\n",
      "total sentences: 58\n",
      "cluster prediction: 1\n",
      "summary: Advertisement Supported by Trump 2020 may sound a lot like Trump 2016, but this time around the fusion of president and party is complete. The president’s own internal polls show Mr. Trump trailing the former vice president, Joe Biden, not only in many battleground states Mr. Trump won in 2016, but in traditional Republican strongholds like Georgia. One excited Trump supporter who was there told me he was overwhelmed by the unwavering support for Mr. Trump, driven by a sense that Mr. Trump has been deeply wronged — by the Mueller investigation, by the media and by what he described as “anti-Trump forces.” He also told me, based on conversations he had with others at the rally, that Mr. Trump’s supporters believe his era is “spiritually driven.” What he meant by that is that person after person reported that when it comes to Mr. Trump and the presidency, “God has chosen him and is protecting him.” It is the Children of Light against the Children of Darkness. The Republican Party has been transformed by Mr. Trump. Until Mr. Trump, the Republican Party was committed, at least philosophically, to free trade. For Mr. Trump, this is routine. Under Mr. Trump, it happened. Mr. Trump’s takeover of the Republican Party is complete.\n",
      "------------------------------------\n",
      "\n",
      "url: https://www.nytimes.com/2019/06/19/opinion/trump-racial-resentment.html\n",
      "sentences selected: [6, 18, 23, 24, 29, 30, 32, 41, 60]\n",
      "total sentences: 76\n",
      "cluster prediction: 1\n",
      "summary: While Trump did turn out the universe of voters who score high on measures of racial resentment and what political scientists call “anti-black affect,” he also generated a boomerang effect. In a working paper, “Trumped by Race: Explanations for Race’s Influence on Whites’ Votes in 2016,” Andrew Engelhardt, a postdoctoral research associate in International and Public Affairs at Brown, makes the case that the percentage of racially liberal white Democrats grew from 19 percent in 2012 to 40 percent in 2016, as shown in the accompanying chart. Positive view of blacks (least resentment) Negative view of blacks (most resentment) Democrats 2012 2016 10% 8 6 4 2 LEVEL OF RESENTMENT: LEAST MOST 19% 28% 40% 18% of 2012 Democrats of 2016 Democrats Republicans 2012 2016 12 10 8 6 4 2 LEVEL OF RESENTMENT: LEAST MOST 2% 51% 3% 48% of 2012 Republicans of 2016 Republicans Positive view of blacks (least resentment) Negative view of blacks (most resentment) Democrats Republicans 2012 2016 2012 2016 12% 10% 10 8 8 6 6 4 4 2 2 LEVEL OF RESENTMENT: LEAST MOST 19% 28% 40% 18% 2% 51% 3% 48% of 2012 Democrats of 2016 Democrats of 2012 Republicans of 2016 Republicans By Bill Marsh/The New York Times | Source: analysis of American National Election Studies survey data by Andrew M. Engelhardt, Brown University Conversely, the percentage of racially resentful white Republicans fell slightly, from 51 percent in 2012 to 48 percent in 2016, a statistically insignificant difference. In an email, Engelhardt pointed out that in recent decades, “the proportion of Republicans holding more racially resentful attitudes is increasing slightly over time, but not by much.” Looking at the 16-year period from 2000 to 2016, Engelhardt wrote, “I don’t find any evidence that the distribution of racial resentment for white Republicans reliably differs between 2000 and 2016.” In his paper, Engelhardt argues that in the Trump era White nationalist rallies may gain the most attention, in part because they may play on pundits’ priors about the Trump administration’s bases of support. I’ve found, as have others, that there was a notable shift in racial resentment in 2016, but only among Democrats, who became more racially liberal on the racial resentment scale.” At the same time, one of the most striking facts to emerge from Engelhardt’s analysis is how far white Democrats have moved in a liberal direction on issues of race over the last three decades. In the period from 1988 to 1990, the level of racial resentment was almost the same among both white Democrats and white Republicans. For example, in 1988 the mean level of racial resentment, on a scale of 0 to 1, was .65 for white Republicans and .61 for white Democrats. As Hopkins wrote,  It’s clear that Trump’s support in the 2016 primaries was concentrated among Republicans who were especially concerned about immigration and who expressed higher levels of anti-Black racial prejudice. Going into 2020, Trump has clearly decided to continue and expand upon his 2016 strategy of mobilizing white voters high in anti-black affect, strongly opposed to immigration and resistant to liberalizing social mores — just as Democrats are aiming to turn out Obama voters who sat out 2016.\n",
      "------------------------------------\n",
      "\n",
      "url: https://www.nytimes.com/2019/06/18/opinion/morsi-death-egypt.html\n",
      "sentences selected: [0, 13, 17, 18, 23, 32, 38, 39]\n",
      "total sentences: 57\n",
      "cluster prediction: 3\n",
      "summary: Advertisement Supported by What six years of deliberate and sustained cruelty tell us about el-Sisi’s Egypt. Almost every day since the revolution that paved the way for Mr. Morsi’s election, I have worked on a draft obituary in my head for another former president I had assumed would die first: Hosni Mubarak. Many forces were still stacked against him when he took office: Just two days before the second round of the 2012 presidential election that brought him to power, for instance, Egypt’s highest court, composed of judges appointed by Mr. Mubarak, dissolved the country’s Islamist-dominated parliament, among other maneuvers — a show of strength by the old regime that would seek to undermine Mr. Morsi over the course of his presidency. Still, critics of Mr. Morsi — I was one of them — lamented that he was preoccupied with consolidating power for the Muslim Brotherhood movement from which he came, rather than acting as the transitional president they elected him to be. After three days of mass protests, Abdel Fattah el-Sisi, a man promoted by Mr. Morsi to head the military and to serve as defense minister, and who is now the president, overthrew the Morsi government. Mr. Mubarak was never held accountable for the killing of some 900 people in the 11 days of the uprising, just as Mr. el-Sisi and other senior security personnel are unlikely to ever be held accountable for the massacre, soon after Mr. Morsi’s overthrow, of at least 817 people in just one day, when soldiers and police violently broke up two sit-ins of mostly Muslim Brotherhood supporters, in Cairo on Aug. 14, 2013. Decimated as it is, however, the Muslim Brotherhood is unlikely to be able to pull off mass protests in Egypt, where protests became all but impossible under a draconian law passed soon after Mr. el-Sisi came to power. This, too, is what Mr. el-Sisi has achieved: From July 2013, when Mr. Morsi was overthrown, and January 2016, when the Egyptian parliament reconvened, between 16,000 and 41,000 people, most supporters of the now-banned Muslim Brotherhood, were reportedly arrested or detained.\n",
      "------------------------------------\n",
      "\n",
      "url: https://www.nytimes.com/2019/06/18/opinion/guatemala-election.html\n",
      "sentences selected: [0, 4, 15, 21, 27, 28, 32, 36]\n",
      "total sentences: 52\n",
      "cluster prediction: 3\n",
      "summary: Advertisement Supported by The first round of the national elections makes clear that hopes for democracy have been dashed. The United Nations-backed anti-corruption and impunity commission in Guatemala, known by its acronym CICIG, working in tandem with a justice system led by Attorney General Thelma Aldana, had achieved what had seemed nearly impossible, demonstrating that powerful politicians weren’t always above the law. Mr. Giammattei is backed by former military officers loyal to the former president Pérez Molina, still in prison, and to President Jimmy Morales. (According to CICIG, over the past two elections, Guatemalan political parties have received 50 percent of their funding from organized crime and corruption.) If Ms. Aldana had run, she would have been the only anti-establishment candidate to favor renewing CICIG’s mandate. Barring some shocking twist, such as either Ms. Torres or Mr. Giammattei suddenly vowing to support CICIG in a ploy to win votes while betraying their most powerful supporters — and, at least in Ms. Torres’s case, positioning herself to face a future trial — this election means the end of the commission’s work in Guatemala. “The country will remain under the control of the mafias that succeeded in ousting CICIG, thanks only to the support of Trump, ” Manfredo Marroquín, the head of Acción Ciudadana, a Guatemalan NGO, and one of this election’s few promising, low-name-recognition presidential candidates, representing a marginal political party, told me. This Guatemalan election is a manifestation of the disrespect for fundamental democratic values, institutions and the rule of law, and of a contempt for international initiatives, shared by Mr. Morales and Mr. Trump and their supporters, a true coproduction.\n",
      "------------------------------------\n",
      "\n",
      "url: https://www.nytimes.com/2019/06/18/us/politics/trump-rally.html\n",
      "sentences selected: [3, 32, 34, 35, 41, 43, 44]\n",
      "total sentences: 48\n",
      "cluster prediction: 1\n",
      "summary: Mr. Trump had no new campaign message to unveil. The news media, in Mr. Trump’s telling, is helping spread the “Russian hoax,” which is what he has called the investigation by the special counsel, Robert S. Mueller III, into Russian interference in the election and whether the Trump campaign was involved. Mr. Trump has been mistreated. Mr. Trump’s victory in Florida in November 2016 was a piece of the puzzle in beating Mrs. Clinton, and his campaign is aware of the need for a show of strength in the state. Mr. Trump has been telling aides he wants to run against Mr. Biden because it is a race he recognizes. But if his opponent is Mr. Sanders or Senator Elizabeth Warren, the president’s aides expect the race to play out along ideological lines, with Mr. Trump railing against socialism. But without a clear opponent, Mr. Trump seemed content on Tuesday to hold up the specter of Mrs. Clinton.\n",
      "------------------------------------\n",
      "\n",
      "url: https://www.nytimes.com/2019/06/18/opinion/tiffany-caban.html\n",
      "sentences selected: [3, 9, 19, 20, 23, 28, 37]\n",
      "total sentences: 44\n",
      "cluster prediction: 3\n",
      "summary: In 1991, the year Richard Brown began a nearly 28-year tenure as Queens district attorney, crack had turned New York neighborhoods into battlegrounds and 2,154 people were murdered in the city. But when Mr. Brown died in May, the Queens district attorney’s office remained, in many ways, frozen in time, deploying practices other New York prosecutors now avoid. Ms. Cabán does not have the managerial experience of Melinda Katz, the Queens borough president, or the prosecutorial experience of Greg Lasak, a retired judge and former longtime assistant Queens district attorney. But Ms. Katz has no experience as a prosecutor nor long commitment to criminal justice reform, and despite Mr. Lasak’s tenure, he would not seem to be someone to bring change to an office where he served for years. If she succeeds Mr. Brown, Ms. Cabán is likely to face resistance from prosecutors, investigators, the police, even some judges and defense lawyers. As Brooklyn district attorney, Mr. Thompson, among the first of the new breed of prosecutors, proved that a committed outsider could get the job done. Ms. Cabán is the Democrat best poised to become one of a growing number of prosecutors to show that can be done without infringing on civil liberties, criminalizing black and Hispanic Americans and mistaking punishment for the only form of justice.\n",
      "------------------------------------\n",
      "\n",
      "url: https://www.nytimes.com/2019/06/18/us/emotional-support-animal.html\n",
      "sentences selected: [0, 2, 5, 24, 25, 30, 44, 53]\n",
      "total sentences: 64\n",
      "cluster prediction: 3\n",
      "summary: More Americans are saying they need a variety of animals — dogs, ducks, even insects — for their mental health. Many Americans say living with an emotional support animal has done wonders for their mental health. So Mr. Myers bought a duck and named it Primadonna. “A true service animal is a highly trained dog,” said Tammy Townley, a state representative in Oklahoma who supports her state’s new law. “When someone comes in with an emotional support animal, they are saying, ‘It’s my service animal.’ No — it’s something you bought a vest for.” Advocates point out that therapy animals are protected by the Fair Housing Act, which requires landlords to make “reasonable accommodations” for people with disabilities, like a wheelchair-accessible parking space. “When is it an emotional support animal and when it is a pet?” Sam Killebrew, a Florida state lawmaker who sponsored a bill to curb emotional support animal claims, said he went online and registered Ophelia, a stuffed baboon in his office, as his “emotional support animal,” even though she’s been frozen, her fang-filled mouth agape, by a taxidermist. Some people who require Seeing Eye dogs have complained that their animals have been attacked in airports or restaurants by untrained emotional support dogs, and that the explosion in support animals has led to more skepticism of true service dogs. Mr. Dietz does not deny that some people pretend to need an animal when they merely want one.\n",
      "------------------------------------\n",
      "\n",
      "url: https://www.nytimes.com/2019/06/18/opinion/trump-2020-campaign.html\n",
      "sentences selected: [2, 7, 13, 19, 25, 29, 40, 48]\n",
      "total sentences: 57\n",
      "cluster prediction: 1\n",
      "summary: By Matthew Continetti Mr. Continetti is editor in chief of The Washington Free Beacon. More important, Mr. Trump benefits from incumbency and continued economic recovery, and he’s riding a wave of national populism that has yet to crest. And the economic recovery that began in mid-2009 has continued under Mr. Trump, with unemployment at half-century lows. But Mr. Trump is wary of foreign entanglements, and a slowdown is not the same as a recession. Nor is Mr. Trump likely to. Behind the rise of outsider politicians such as Mr. Trump are the interrelated issues of unchecked immigration, terrorism and the imposition of carbon taxes and other measures to mitigate climate change. After San Bernardino, Mr. Trump welded the issues of terrorism and immigration in his call for a ban on Muslims’ entry into the United States. It is the idea on which Mr. Trump and his anti-elitist supporters base their campaigns.\n",
      "------------------------------------\n",
      "\n",
      "url: https://www.nytimes.com/2019/06/19/opinion/greens-party-germany.html\n",
      "sentences selected: [4, 22, 31, 34, 35, 45, 48, 50]\n",
      "total sentences: 58\n",
      "cluster prediction: 3\n",
      "summary: Then, in a poll last week, the Greens received 26 percent, topping Angela Merkel’s Christian Democratic Union, which came in at 25 percent, and making the Greens the leading political party. In the public eye, Angela Merkel, though still chancellor, has practically abdicated political leadership since December, when Annegret Kramp-Karrenbauer took over leadership of the ruling Christian Democrats. Daring yet prudent, Ms. Merkel came to embody the self-image a majority of Germans craved. Now with Ms. Merkel on the way out, the public is not going to stick with the Christian Democrats. The one party coming closest to Merkelism is — you guessed it — the Green party. And for all the hype about Ms. Merkel as a climate chancellor, Germany will miss its 2020 climate goals. But it’s one thing for a nonaligned pragmatist like her to don that environmental mantle; it’s another for a party to come in promising to make climate change the core of its agenda. But turning attitude into policies might prove harder for the Green party than is has been for the green chancellor.\n",
      "------------------------------------\n",
      "\n",
      "url: https://www.nytimes.com/2019/06/19/nyregion/newyorktoday/nyc-subway-fare-evasion.html\n",
      "sentences selected: [5, 7, 9, 12, 19, 23, 29, 35, 37, 46]\n",
      "total sentences: 94\n",
      "cluster prediction: 3\n",
      "summary: New York’s public transportation system loses $240 million a year because of fare evasion on the subway and buses, according to Governor Cuomo. Mr. Cuomo’s plan: Put 500 uniformed officers on bus routes and in subway stations. Mr. Cuomo wants to address two problems: fare evasion and assaults on transit workers. The governor has announced three tactics: Starting Monday, according to a spokesman for Mr. Cuomo, 500 uniformed officers will be sent to 50 subway stations and 50 bus routes where evasion and assaults occur at elevated rates. Two hundred are New York Police Department officers, and 300 are M.T.A. How will they deter fare evasion? officials would “be a presence to deter people from going into the subway station.” Mr. Vance had announced last year that he would stop prosecuting these cases because fare evasion would be best solved through deterrence. How will video cameras be used to deter fare evasion? Transit officials are “going to research how to use video cameras,” Mr. Cuomo said. “The growing problem of fare evasion is just one reason we’re excited for our new OMNY fare payment system, which will ultimately provide proof of payment on subway and buses,” Mr. Foye said.\n",
      "------------------------------------\n",
      "\n",
      "url: https://www.nytimes.com/2019/06/19/world/europe/mh17-ukraine-russia-suspects.html\n",
      "sentences selected: [0, 7, 20, 24, 26, 29]\n",
      "total sentences: 36\n",
      "cluster prediction: 3\n",
      "summary: Advertisement Supported by By Andrew E. Kramer MOSCOW — International prosecutors on Wednesday said that four men, including three with close ties to the Russian military and intelligence, would face murder charges in the downing of Malaysia Airlines Flight 17 over Ukraine five years ago, killing 298 people. The charges, based on a lengthy investigation conducted by officials of five countries affected by the disaster — the Netherlands, Malaysia, Ukraine, Belgium and Australia — expands on earlier reports about the Russian hand in the separatist faction in eastern Ukraine that has been fighting a civil war against government forces. The following year, the Joint Investigation Team, formed with prosecutors from Austria, Belgium, Malaysia, the Netherlands and Ukraine, traced the missile launcher’s route from Russia to Ukraine and back. Fifteen months after Malaysia Airlines Flight 17 was shot down over Ukraine, killing 298 people, investigators released two conflicting reports. The missile belonged to an active-duty unit in the Russian military, the 53rd Antiaircraft Brigade based in the city of Kursk, the Dutch investigators said. The Kremlin has denied any involvement in arming separatist fighters in eastern Ukraine or in shooting down the Malaysia Airlines flight.\n",
      "------------------------------------\n",
      "\n",
      "url: https://www.nytimes.com/2019/06/18/style/make-golf-cool.html\n",
      "sentences selected: [4, 19, 28, 31, 33, 39, 46, 48]\n",
      "total sentences: 53\n",
      "cluster prediction: 3\n",
      "summary: “Most golf parties, I don’t want to go to,” Mr. Malbon said. “Kids that are into fashion, hip-hop and music, they’re not into golf,” said Mr. Malbon. “I was doing events at Fred Segal with youth brands, and I was like, ‘I don’t want to be here,’” Mr. Malbon said. “It’s not like you’re going to be D.J.ing at an underground club anymore.” “I don’t go to clubs,” Mr. Malbon said. I want to go to country clubs early, in the morning.” In 2012, Mr. Malbon started a golf-dedicated Instagram account, “because people in his daily life were like, ‘Dude, stop posting photos of golf, none of us golf,’” Ms. Malbon said. “The haters are like, ‘This is not golf,’ ‘Don’t wear Jordans golfing.’” “Like skintight, dry-fit pants and dry-fit polos are golf,” said Mr. Malbon. The game of golf needs more of those personalities.” “There’s a lot more guys like me on the tour that would like to come to a party like this,” he added, “instead of a place where they have to wear a button-up shirt.” An unbuttoned philosophy governs the Malbon Golf Club, founded in May, a collective of L.A.-area golfers who plan to compete, monthly, on a municipal course, “so you don’t have to pay $300,000 to be able to play with a good group of people and have a good time,” Ms. Malbon said. “There are a lot of people like me, who, just because I want to join my dad’s country club, doesn’t mean I want to act like he did,” said Mr. Malbon.\n",
      "------------------------------------\n",
      "\n"
     ]
    }
   ],
   "source": [
    "get_all_summaries('https://www.nytimes.com')"
   ]
  },
  {
   "cell_type": "code",
   "execution_count": null,
   "metadata": {},
   "outputs": [],
   "source": []
  },
  {
   "cell_type": "code",
   "execution_count": null,
   "metadata": {},
   "outputs": [],
   "source": []
  },
  {
   "cell_type": "code",
   "execution_count": null,
   "metadata": {},
   "outputs": [],
   "source": []
  },
  {
   "cell_type": "code",
   "execution_count": null,
   "metadata": {},
   "outputs": [],
   "source": []
  },
  {
   "cell_type": "code",
   "execution_count": null,
   "metadata": {},
   "outputs": [],
   "source": []
  },
  {
   "cell_type": "code",
   "execution_count": null,
   "metadata": {},
   "outputs": [],
   "source": []
  },
  {
   "cell_type": "code",
   "execution_count": null,
   "metadata": {},
   "outputs": [],
   "source": []
  },
  {
   "cell_type": "code",
   "execution_count": null,
   "metadata": {},
   "outputs": [],
   "source": []
  },
  {
   "cell_type": "code",
   "execution_count": null,
   "metadata": {},
   "outputs": [],
   "source": []
  },
  {
   "cell_type": "code",
   "execution_count": null,
   "metadata": {},
   "outputs": [],
   "source": []
  }
 ],
 "metadata": {
  "kernelspec": {
   "display_name": "Python 3",
   "language": "python",
   "name": "python3"
  },
  "language_info": {
   "codemirror_mode": {
    "name": "ipython",
    "version": 3
   },
   "file_extension": ".py",
   "mimetype": "text/x-python",
   "name": "python",
   "nbconvert_exporter": "python",
   "pygments_lexer": "ipython3",
   "version": "3.7.2"
  }
 },
 "nbformat": 4,
 "nbformat_minor": 2
}
