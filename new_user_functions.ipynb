{
 "cells": [
  {
   "cell_type": "code",
   "execution_count": 18,
   "metadata": {},
   "outputs": [
    {
     "name": "stderr",
     "output_type": "stream",
     "text": [
      "[nltk_data] Downloading package punkt to\n",
      "[nltk_data]     /Users/austinkrause/nltk_data...\n",
      "[nltk_data]   Unzipping tokenizers/punkt.zip.\n"
     ]
    }
   ],
   "source": [
    "import pandas as pd\n",
    "import requests\n",
    "from bs4 import BeautifulSoup\n",
    "from gensim.summarization.summarizer import summarize\n",
    "import pickle\n",
    "from nltk import sent_tokenize, word_tokenize\n",
    "from nltk.corpus import stopwords\n",
    "from string import punctuation\n",
    "import numpy as np\n",
    "import pandas as pd\n",
    "import nltk\n",
    "import re\n",
    "import os\n",
    "import codecs\n",
    "from sklearn import feature_extraction\n",
    "import matplotlib.pyplot as plt\n",
    "%matplotlib inline\n",
    "from sklearn.metrics import pairwise_distances_argmin_min\n",
    "import nltk\n",
    "nltk.download('punkt')\n",
    "from sklearn.metrics.pairwise import cosine_similarity\n",
    "from sklearn.feature_extraction.text import TfidfVectorizer"
   ]
  },
  {
   "cell_type": "code",
   "execution_count": 42,
   "metadata": {},
   "outputs": [],
   "source": [
    "from sklearn.feature_extraction import text\n",
    "from sklearn.feature_extraction.text import TfidfVectorizer\n",
    "from sklearn.cluster import KMeans\n",
    "import numpy as np\n",
    "import pandas as pd\n",
    "from langdetect import detect\n",
    "from nltk.stem import PorterStemmer\n",
    "from nltk.stem.snowball import SnowballStemmer\n",
    "from nltk.corpus import words\n",
    "from nltk.tokenize import RegexpTokenizer\n",
    "import ast"
   ]
  },
  {
   "cell_type": "code",
   "execution_count": null,
   "metadata": {},
   "outputs": [],
   "source": []
  },
  {
   "cell_type": "code",
   "execution_count": 8,
   "metadata": {},
   "outputs": [],
   "source": [
    "#load in our xgb classification model\n",
    "xgb = pickle.load(open(\"xgboost_model.sav\", \"rb\"))"
   ]
  },
  {
   "cell_type": "code",
   "execution_count": null,
   "metadata": {},
   "outputs": [],
   "source": []
  },
  {
   "cell_type": "code",
   "execution_count": 9,
   "metadata": {},
   "outputs": [],
   "source": [
    "df = pd.read_csv('df_with_gensim_summaries.csv')"
   ]
  },
  {
   "cell_type": "code",
   "execution_count": 10,
   "metadata": {},
   "outputs": [],
   "source": [
    "df = df.drop(['Unnamed: 0', 'Unnamed: 0.1', 'title', 'author', 'year', 'month', 'category'], axis = 1)"
   ]
  },
  {
   "cell_type": "code",
   "execution_count": 11,
   "metadata": {},
   "outputs": [
    {
     "data": {
      "text/html": [
       "<div>\n",
       "<style scoped>\n",
       "    .dataframe tbody tr th:only-of-type {\n",
       "        vertical-align: middle;\n",
       "    }\n",
       "\n",
       "    .dataframe tbody tr th {\n",
       "        vertical-align: top;\n",
       "    }\n",
       "\n",
       "    .dataframe thead th {\n",
       "        text-align: right;\n",
       "    }\n",
       "</style>\n",
       "<table border=\"1\" class=\"dataframe\">\n",
       "  <thead>\n",
       "    <tr style=\"text-align: right;\">\n",
       "      <th></th>\n",
       "      <th>content</th>\n",
       "      <th>len_article</th>\n",
       "      <th>gensim_summary</th>\n",
       "    </tr>\n",
       "  </thead>\n",
       "  <tbody>\n",
       "    <tr>\n",
       "      <th>0</th>\n",
       "      <td>And never more so than in Showtime’s new...</td>\n",
       "      <td>12219</td>\n",
       "      <td>In the second season finale, back in 1991, the...</td>\n",
       "    </tr>\n",
       "    <tr>\n",
       "      <th>1</th>\n",
       "      <td>AlphaGo’s victory isn’t a defeat for hum...</td>\n",
       "      <td>11068</td>\n",
       "      <td>When speaking to DeepMind and Google developer...</td>\n",
       "    </tr>\n",
       "    <tr>\n",
       "      <th>2</th>\n",
       "      <td>How a weapon against war became a weapon...</td>\n",
       "      <td>14088</td>\n",
       "      <td>International visitors for the event are commo...</td>\n",
       "    </tr>\n",
       "    <tr>\n",
       "      <th>3</th>\n",
       "      <td>Genius quietly laid off a bunch of its e...</td>\n",
       "      <td>12170</td>\n",
       "      <td>In a post on the Genius blog at the time, co-f...</td>\n",
       "    </tr>\n",
       "    <tr>\n",
       "      <th>4</th>\n",
       "      <td>Inside the test flight of Facebook’s fir...</td>\n",
       "      <td>11967</td>\n",
       "      <td>But if your goal is to stay in the air for a l...</td>\n",
       "    </tr>\n",
       "  </tbody>\n",
       "</table>\n",
       "</div>"
      ],
      "text/plain": [
       "                                             content  len_article  \\\n",
       "0        And never more so than in Showtime’s new...        12219   \n",
       "1        AlphaGo’s victory isn’t a defeat for hum...        11068   \n",
       "2        How a weapon against war became a weapon...        14088   \n",
       "3        Genius quietly laid off a bunch of its e...        12170   \n",
       "4        Inside the test flight of Facebook’s fir...        11967   \n",
       "\n",
       "                                      gensim_summary  \n",
       "0  In the second season finale, back in 1991, the...  \n",
       "1  When speaking to DeepMind and Google developer...  \n",
       "2  International visitors for the event are commo...  \n",
       "3  In a post on the Genius blog at the time, co-f...  \n",
       "4  But if your goal is to stay in the air for a l...  "
      ]
     },
     "execution_count": 11,
     "metadata": {},
     "output_type": "execute_result"
    }
   ],
   "source": [
    "df.head()"
   ]
  },
  {
   "cell_type": "code",
   "execution_count": 14,
   "metadata": {},
   "outputs": [],
   "source": [
    "def create_soup(url):\n",
    "    facts = requests.get(url)\n",
    "    soup = BeautifulSoup(facts.content, 'html.parser')\n",
    "    return soup"
   ]
  },
  {
   "cell_type": "code",
   "execution_count": 209,
   "metadata": {},
   "outputs": [],
   "source": [
    "def get_article_text(url):\n",
    "    #url = input('Enter a url: \\n')\n",
    "    soup = create_soup(url)\n",
    "    \n",
    "    text = []\n",
    "    for i in soup.find_all('p'):\n",
    "        text.append(i.get_text())\n",
    "\n",
    "    full_text = ' '.join(text).replace('\\xa0', '')\n",
    "#     word_count_ = full_text.count(' ')\n",
    "#     gensim_summary = summarize(full_text, word_count = word_count_/10).strip('. ').replace('.\\n', '')\n",
    "    \n",
    "#     print('\\n Full Text:\\n', full_text, '\\n\\n')\n",
    "#     print('Extractive Summary: \\n', gensim_summary)\n",
    "    return full_text"
   ]
  },
  {
   "cell_type": "code",
   "execution_count": 210,
   "metadata": {},
   "outputs": [
    {
     "data": {
      "text/plain": [
       "'The handful of market stalls lining the narrow concrete path that serves as the island’s main artery offer the usual assortment of goods found across rural Cambodia: cheap noodles, stacks of Coca-Cola bottles, fake soccer jerseys, household cleaning products – and the plastic bags to carry them home. Littering the floor between piles of squeezed sugarcane and empty clam shells is an ocean of plastic wrappers, bottles, cups, straws, and empty bags. Swept out of the way, but not out of sight, it’s a stark reminder of the challenges residents of Koh Sdach island and the surrounding archipelago face in living harmoniously with their environment. Just a five minute boat ride from mainland Cambodia, Koh Sdach is surrounded by clear blue waters that have sustained fishing communities for generations. But decades of overfishing and indiscriminate waste disposal have taken a steep toll on the environment. Recommended: ‘He will eat a half-truth teller alive’: Marianne Williamson takes on Trump “It is well known that plastic waste harms our oceans,” says Marianne Teoh of Fauna & Flora International (FFI), a nonprofit environmental organization supporting coastal communities and partners in Cambodia to strengthen coastal resilience. “Cambodia is no exception, with trash littering the shore and sea turtle nesting beaches, and plastic bags and discarded plastic fishing nets smothering coral reefs. But the plastic problem in these island communities is not just environmental. Plastic pollution is a social issue that threatens the health and livelihoods of vulnerable communities that are often dependent on natural resources.” Awareness is slowly growing on Koh Sdach. But with limited environmental education, economic incentives, and law enforcement, waste management and conservation-minded fishing techniques are tough sells. That doesn’t dissuade Oeun Sina, the loudest voice calling for better environmental practices on land and sea. As deputy village chief on the island, Ms. Oeun Sina is trying to usher in a sea change in the way the 3,000 residents of her small fishing village see their island and the waters that surround it. She has taken it upon herself to educate her neighbors about recycling and trash disposal, and joins otherwise all-male community sea patrols in search of illegal fishing. “I want my community to understand about plastics and not to fish illegally,” she says, sitting outside her house, as her three grandchildren play at her feet. “I ask people who I think are interested to at least collect their trash, and take it to the dump up by the pagoda. ... Only 20% understand. Its difficult to explain things to them, as so few are well educated.” Ms. Oeun Sina didn’t finish high school herself. But what she lacks in formal education she makes up in passion and determination, no matter how futile it may seem. “I want my community to be clean, but people don’t care,” she says. “They have no understanding of how bad [their actions are] for the environment or their health. We even get teased when trying to arrange cleanups.” WHEN RECYCLING DOESN’T PAY Recycling is widespread across Cambodia but it is largely driven by financial needs rather than environmental concerns. Scavengers, mostly vulnerable migrants, pick through city garbage for metal, plastic, and cardboard to sell to dealers who then transport it to recycling plants in Vietnam or Thailand. On Koh Sdach, three empty beer cans fetch 5 cents, the same price as 1 kilogram, or 2.2 pounds, of plastic bottles. Such price differences mean that there is no market in remote areas for plastic collection, explains Commune Chief Sok Chay. “People here just throw everything away as there is no way to sell the plastic,” he says. Old fishing nets full of empty beer and soft drink cans are common across the island.His response has been to instigate regular community cleanup days. “Experts have told me that the plastic in the water is bad for our health, as the fish eat it and then we eat the fish. I gather people together to educate them about the problems of plastics – school kids, students, and government officials – to learn and then collect waste. Some 30 students and 30 government people come to collect litter, plus a few people from the village,” he says. Mr. Sok Chay sees no solution to the problem of waste and recycling other than burning waste. He has bigger environmental (and economic) issues on his mind, as local populations rise and fish stocks dwindle. “Illegal fishing from our own people using illegal tools to catch fish, as well as people from neighboring countries sneaking in to fish illegally [is a major challenge],” he says. “Then [there are added] environmental issues from tourism and modern life. It is hard to deal with the waste properly on the island and all the plastic that washes up on the shore.” COMMUNITY SEA PATROL Cambodia’s 280 mile coastline and surrounding waters support fishing, tourism, and salt-farming industries. While there is little data on marine life numbers, local communities report increasing difficulty in finding sufficient fish and shellfish to support their families. Pheng Chay oversees the community’s efforts to protect the fishing areas. Using a boat supplied by the Fisheries Administration and FFI, members of the community, accompanied by armed government officers, have started to patrol the waters around Koh Sdach about four times a month looking for illegal fishing activity and equipment. Ms. Oeun Sina regularly joins these patrols. “Mostly men go to sea here. Women have traditionally stayed at home [but Oeun Sina] is very involved. She is great. She is the only person who takes part all the time,” Mr.Pheng Chay notes, and the only woman in the 10-person community team. There are some 40 such community fisheries (CFi) organizations along the Cambodian coast, all aiming to support the communities that depend on the sea for their livelihoods. While the Koh Sdach CFi was founded in 2013, it only started regular patrols in 2019. Already the community teams have stopped and fined a number of Vietnamese boats using illegal nets, Mr. Pheng Chay explained. But with limited powers of arrest (and a quiet admission that they will be lenient on any Koh Sdach residents they stop), the effectiveness of the patrols is limited. Ms. Chhoeng Sotheavann says FFI is working with other nonprofits and Cambodian authorities to establish the country’s second marine protected area, after the success of conservation efforts around the nearby Koh Rong archipelago. The 156-square-mile Marine Fisheries Management Area around the two main islands of the archipelago took more than five years of government, NGO, and community work to create. Now three CFis help to protect the waters, corals, and ocean floor from harmful fishing practices, and ensure that threatened species can recover and future generations of residents and tourists can enjoy Cambodia’s rich marine environment. “Cambodian authorities and communities have asked for a similar model to be applied around Koh Sdach. The project will support the community in identifying areas of the archipelago that are critical fishing grounds and those that could be no-fish or no-entry areas to help habitat and stocks to recover,” Ms. Marianne Teoh says. There will also be a focus on supporting the communities with their plastic and waste management problems. For Mr. Sok Chay, the growing interest from the community and government in the long-term protection of the local environment is a source of pride. “I am optimistic for the future. From the national level to the local level, people care about Koh Sdach. People here are doing what they can, and I am confident that things will improve.” Related stories Read this story at csmonitor.com Become a part of the Monitor community '"
      ]
     },
     "execution_count": 210,
     "metadata": {},
     "output_type": "execute_result"
    }
   ],
   "source": [
    "get_article_text('https://news.yahoo.com/cambodia-islands-under-threat-woman-trying-save-them-144633896.html')\n",
    "\n"
   ]
  },
  {
   "cell_type": "code",
   "execution_count": 39,
   "metadata": {},
   "outputs": [],
   "source": [
    "#set stop words\n",
    "stops = list(set(stopwords.words('english'))) + list(punctuation)"
   ]
  },
  {
   "cell_type": "code",
   "execution_count": 43,
   "metadata": {},
   "outputs": [],
   "source": [
    "stemmer = PorterStemmer()"
   ]
  },
  {
   "cell_type": "code",
   "execution_count": 99,
   "metadata": {},
   "outputs": [],
   "source": [
    "#helper function to remove stop words\n",
    "def remove_stops(text):\n",
    "    text_no_stops = []\n",
    "    for i in text:\n",
    "        i = i.lower()\n",
    "        if i not in stops:\n",
    "            if len(i) == 1:\n",
    "                pass\n",
    "            else:\n",
    "                text_no_stops.append(i)\n",
    "        else:\n",
    "            pass\n",
    "    return text_no_stops"
   ]
  },
  {
   "cell_type": "code",
   "execution_count": 35,
   "metadata": {},
   "outputs": [],
   "source": [
    "#helper function to lemmatize text\n",
    "def lemmatize_text(text):\n",
    "    lemmatized = []\n",
    "    for word in text:\n",
    "        lemmatized.append(lemmatizer.lemmatize(word))\n",
    "    return lemmatized"
   ]
  },
  {
   "cell_type": "code",
   "execution_count": 116,
   "metadata": {},
   "outputs": [],
   "source": [
    "#create helper function to stem each word in a list and concat the list\n",
    "def stem_list(lst):\n",
    "    stemmed_list = []\n",
    "    for i in lst:\n",
    "        stemmed_list.append(stemmer.stem(i))\n",
    "    stem_string = ' '.join(stemmed_list[:100])\n",
    "    return stem_string"
   ]
  },
  {
   "cell_type": "code",
   "execution_count": 117,
   "metadata": {},
   "outputs": [],
   "source": [
    "#function to perform lemmatization, stemming, and final preprocessing\n",
    "def xgb_text_prep(sample_text):\n",
    "    tokens = word_tokenize(str(sample_text), language = 'en')\n",
    "    no_stops = remove_stops(tokens)\n",
    "    stemmed = stem_list(no_stops)\n",
    "    #stemmed = stemmed.replace('\\\\n', '')\n",
    "    return [stemmed]\n",
    "    #return no_stops"
   ]
  },
  {
   "cell_type": "code",
   "execution_count": 118,
   "metadata": {},
   "outputs": [
    {
     "data": {
      "text/plain": [
       "['hand market stall line narrow concret path serv island main arteri offer usual assort good found across rural cambodia cheap noodl stack coca-cola bottl fake soccer jersey household clean product plastic bag carri home.. litter floor pile squeez sugarcan empti clam shell ocean plastic wrapper bottl cup straw empti bag swept way sight stark remind challeng resid koh sdach island surround archipelago face live harmoni environment.. five minut boat ride mainland cambodia koh sdach surround clear blue water sustain fish commun gener decad overfish indiscrimin wast dispos taken steep toll environment.. recommend eat half-truth teller aliv mariann williamson take trump']"
      ]
     },
     "execution_count": 118,
     "metadata": {},
     "output_type": "execute_result"
    }
   ],
   "source": [
    "xgb_text_prep(test_1)"
   ]
  },
  {
   "cell_type": "code",
   "execution_count": null,
   "metadata": {},
   "outputs": [],
   "source": []
  },
  {
   "cell_type": "code",
   "execution_count": 119,
   "metadata": {},
   "outputs": [],
   "source": [
    "def get_xgb_prediction(text):\n",
    "    preprocess = text_prep([text])\n",
    "    return xgb.predict(preprocess)[0]"
   ]
  },
  {
   "cell_type": "code",
   "execution_count": 120,
   "metadata": {},
   "outputs": [
    {
     "data": {
      "text/plain": [
       "3"
      ]
     },
     "execution_count": 120,
     "metadata": {},
     "output_type": "execute_result"
    }
   ],
   "source": [
    "get_xgb_prediction(test_1_preprocess)"
   ]
  },
  {
   "cell_type": "code",
   "execution_count": 224,
   "metadata": {},
   "outputs": [],
   "source": [
    "def find_similarities(text):\n",
    "    #tokenize sentences\n",
    "    sentences = sent_tokenize(text, language = 'en')\n",
    "    \n",
    "    #vectorize sentences\n",
    "    vectorizer = TfidfVectorizer(stop_words = stops)\n",
    "    trsfm=vectorizer.fit_transform(sentences)\n",
    "    #creat df for article\n",
    "    text_df = pd.DataFrame(trsfm.toarray(),columns=vectorizer.get_feature_names(),index=sentences)\n",
    "    \n",
    "    #declare how many sentences to use in summary\n",
    "    num_sentences = text_df.shape[0]\n",
    "    num_summary_sentences = int(np.ceil(num_sentences**.5))\n",
    "        \n",
    "    #find cosine similarity for all sentences\n",
    "    similarities = cosine_similarity(trsfm, trsfm)\n",
    "    #print(similarities)\n",
    "    #create list to hold avg cosine similarities for each sentence\n",
    "    avgs = []\n",
    "    for i in similarities:\n",
    "        avgs.append(i.mean())\n",
    "     \n",
    "    #find index values of the sentences to be used for summary\n",
    "    top_idx = np.argsort(avgs)[-num_summary_sentences:]\n",
    "    \n",
    "    return top_idx"
   ]
  },
  {
   "cell_type": "code",
   "execution_count": 225,
   "metadata": {},
   "outputs": [],
   "source": [
    "def build_summary(text):\n",
    "    sents_for_sum = find_similarities(text)\n",
    "    sort = sorted(sents_for_sum)\n",
    "    print('\\n Sentences selected:', sort)\n",
    "    \n",
    "    sent_list = sent_tokenize(text)\n",
    "    print('\\n Total sentences:', len(sent_list))\n",
    "    \n",
    "    sents = []\n",
    "    for i in sort:\n",
    "        sents.append(sent_list[i].replace('\\n', ''))\n",
    "    \n",
    "    summary = ' '.join(sents)\n",
    "    return summary"
   ]
  },
  {
   "cell_type": "code",
   "execution_count": 226,
   "metadata": {},
   "outputs": [
    {
     "name": "stdout",
     "output_type": "stream",
     "text": [
      "\n",
      " Sentences selected: [1, 6, 10, 11, 22, 24, 43]\n",
      "\n",
      " Total sentences: 49\n"
     ]
    },
    {
     "data": {
      "text/plain": [
       "'Swept out of the way, but not out of sight, it’s a stark reminder of the challenges residents of Koh Sdach island and the surrounding archipelago face in living harmoniously with their environment.. Just a five minute boat ride from mainland Cambodia, Koh Sdach is surrounded by clear blue waters that have sustained fishing communities for generations. But the plastic problem in these island communities is not just environmental. That doesn’t dissuade Oeun Sina, the loudest voice calling for better environmental practices on land and sea.. As deputy village chief on the island, Ms. Oeun Sina is trying to usher in a sea change in the way the 3,000 residents of her small fishing village see their island and the waters that surround it. She has taken it upon herself to educate her neighbors about recycling and trash disposal, and joins otherwise all-male community sea patrols in search of illegal fishing.. “I want my community to understand about plastics and not to fish illegally,” she says, sitting outside her house, as her three grandchildren play at her feet. Such price differences mean that there is no market in remote areas for plastic collection, explains Commune Chief Sok Chay.. “People here just throw everything away as there is no way to sell the plastic,” he says.. Old fishing nets full of empty beer and soft drink cans are common across the island.His response has been to instigate regular community cleanup days.. “Experts have told me that the plastic in the water is bad for our health, as the fish eat it and then we eat the fish. Some 30 students and 30 government people come to collect litter, plus a few people from the village,” he says.. Mr. Sok Chay sees no solution to the problem of waste and recycling other than burning waste. There will also be a focus on supporting the communities with their plastic and waste management problems.. For Mr. Sok Chay, the growing interest from the community and government in the long-term protection of the local environment is a source of pride.. “I am optimistic for the future.'"
      ]
     },
     "execution_count": 226,
     "metadata": {},
     "output_type": "execute_result"
    }
   ],
   "source": [
    "build_summary(test_1)"
   ]
  },
  {
   "cell_type": "code",
   "execution_count": 232,
   "metadata": {},
   "outputs": [],
   "source": [
    "def xgb_and_summary():\n",
    "    url = input('Enter a url: \\n')\n",
    "    text = get_article_text(url)\n",
    "    print('\\n')\n",
    "    xgb_preprocess = xgb_text_prep(text)\n",
    "    print('This article was placed into cluster:', xgb.predict(xgb_preprocess)[0])\n",
    "    \n",
    "    summary = build_summary(text)\n",
    "    return summary"
   ]
  },
  {
   "cell_type": "markdown",
   "metadata": {},
   "source": [
    "TEST ARTICLE 1 --- Supreme Court --- returns cluster 7\n",
    "https://news.yahoo.com/u-supreme-court-spurns-virginia-143413283.html;_ylt=AwrC0COK7wddIj8AGCPQtDMD;_ylu=X3oDMTEydGhybm9tBGNvbG8DYmYxBHBvcwMxBHZ0aWQDQjc2MDlfMQRzZWMDc3I-\n",
    "\n",
    "TEST ARTICLE 2 --- Donald Trump --- returns cluster 1\n",
    "https://news.yahoo.com/trump-says-d-foreigners-offer-233911079.html;_ylt=AwrC1C7Y8AddADIAoS_QtDMD;_ylu=X3oDMTEyaTE5czNyBGNvbG8DYmYxBHBvcwM0BHZ0aWQDQjc2MDlfMQRzZWMDc3I-\n",
    "\n",
    "TEST ARTICLE 3 --- Syria --- returns cluster 11\n",
    "https://news.yahoo.com/turkish-outpost-syria-shelled-syrian-080926968.html;_ylt=AwrC0wwt8gdd2WgAkwHQtDMD;_ylu=X3oDMTEydGhybm9tBGNvbG8DYmYxBHBvcwMxBHZ0aWQDQjc2MDlfMQRzZWMDc3I-\n",
    "\n",
    "TEST ARTICLE 4 --- Birth Control Health Insurance --- returns cluster 3\n",
    "https://news.yahoo.com/democrat-warren-wants-7-billion-134454649.html;_ylt=AwrC1DGZ8gddwlsAJwLQtDMD;_ylu=X3oDMTEydDBqZzZmBGNvbG8DYmYxBHBvcwMyBHZ0aWQDQjc2MDlfMQRzZWMDc3I-\n",
    "\n",
    "TEST ARTICLE 5 --- Bernie Sanders --- returns cluster 3\n",
    "https://news.yahoo.com/sanders-outline-democratic-socialism-means-045302693.html;_ylt=AwrC0CMD4whdTSoALAHQtDMD;_ylu=X3oDMTEydDBqZzZmBGNvbG8DYmYxBHBvcwMyBHZ0aWQDQjc2MDlfMQRzZWMDc3I-"
   ]
  },
  {
   "cell_type": "code",
   "execution_count": 233,
   "metadata": {},
   "outputs": [
    {
     "name": "stdout",
     "output_type": "stream",
     "text": [
      "Enter a url: \n",
      "https://news.yahoo.com/sanders-outline-democratic-socialism-means-045302693.html;_ylt=AwrC0CMD4whdTSoALAHQtDMD;_ylu=X3oDMTEydDBqZzZmBGNvbG8DYmYxBHBvcwMyBHZ0aWQDQjc2MDlfMQRzZWMDc3I-\n",
      "\n",
      "\n",
      "This article was placed into cluster: 3\n",
      "\n",
      " Sentences selected: [0, 1, 9, 11, 17, 20]\n",
      "\n",
      " Total sentences: 29\n"
     ]
    },
    {
     "data": {
      "text/plain": [
       "'WASHINGTON (AP) — Bernie Sanders on Wednesday mounted a strong defense of democratic socialism, the economic philosophy that has guided his political career, even as Republicans and some of his Democratic presidential opponents have seized on it to brand him as too radical. Sanders\\' speech, coming two weeks before the first debates of the Democratic primary, is his most aggressive attempt yet to reframe the conversation about his political views. During Wednesday\\'s speech at George Washington University, Sanders said Trump \"believes in corporate socialism for the rich and powerful,\" while he believes in \"a democratic socialism that works for the working families of this country.\" But few of the other Democrats seeking the White House share his support for democratic socialism. When Sanders entered the 2020 race in February, a spokeswoman for Trump\\'s campaign said Sanders had \"already won the debate in the Democrat primary because every candidate is embracing his brand of socialism\" and said Trump is the only candidate who will keep the country \"free, prosperous and safe.\" Sanders last spoke in depth about democratic socialism in November 2015.'"
      ]
     },
     "execution_count": 233,
     "metadata": {},
     "output_type": "execute_result"
    }
   ],
   "source": [
    "xgb_and_summary()"
   ]
  },
  {
   "cell_type": "code",
   "execution_count": null,
   "metadata": {},
   "outputs": [],
   "source": []
  }
 ],
 "metadata": {
  "kernelspec": {
   "display_name": "Python 3",
   "language": "python",
   "name": "python3"
  },
  "language_info": {
   "codemirror_mode": {
    "name": "ipython",
    "version": 3
   },
   "file_extension": ".py",
   "mimetype": "text/x-python",
   "name": "python",
   "nbconvert_exporter": "python",
   "pygments_lexer": "ipython3",
   "version": "3.7.2"
  }
 },
 "nbformat": 4,
 "nbformat_minor": 2
}
