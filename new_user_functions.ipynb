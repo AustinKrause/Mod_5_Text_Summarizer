{
 "cells": [
  {
   "cell_type": "code",
   "execution_count": 39,
   "metadata": {},
   "outputs": [],
   "source": [
    "import pandas as pd\n",
    "import requests\n",
    "from bs4 import BeautifulSoup\n",
    "from gensim.summarization.summarizer import summarize"
   ]
  },
  {
   "cell_type": "code",
   "execution_count": 9,
   "metadata": {},
   "outputs": [],
   "source": [
    "df = pd.read_csv('df_with_gensim_summaries.csv')"
   ]
  },
  {
   "cell_type": "code",
   "execution_count": 10,
   "metadata": {},
   "outputs": [],
   "source": [
    "df = df.drop(['Unnamed: 0', 'Unnamed: 0.1', 'title', 'author', 'year', 'month', 'category'], axis = 1)"
   ]
  },
  {
   "cell_type": "code",
   "execution_count": 11,
   "metadata": {},
   "outputs": [
    {
     "data": {
      "text/html": [
       "<div>\n",
       "<style scoped>\n",
       "    .dataframe tbody tr th:only-of-type {\n",
       "        vertical-align: middle;\n",
       "    }\n",
       "\n",
       "    .dataframe tbody tr th {\n",
       "        vertical-align: top;\n",
       "    }\n",
       "\n",
       "    .dataframe thead th {\n",
       "        text-align: right;\n",
       "    }\n",
       "</style>\n",
       "<table border=\"1\" class=\"dataframe\">\n",
       "  <thead>\n",
       "    <tr style=\"text-align: right;\">\n",
       "      <th></th>\n",
       "      <th>content</th>\n",
       "      <th>len_article</th>\n",
       "      <th>gensim_summary</th>\n",
       "    </tr>\n",
       "  </thead>\n",
       "  <tbody>\n",
       "    <tr>\n",
       "      <th>0</th>\n",
       "      <td>And never more so than in Showtime’s new...</td>\n",
       "      <td>12219</td>\n",
       "      <td>In the second season finale, back in 1991, the...</td>\n",
       "    </tr>\n",
       "    <tr>\n",
       "      <th>1</th>\n",
       "      <td>AlphaGo’s victory isn’t a defeat for hum...</td>\n",
       "      <td>11068</td>\n",
       "      <td>When speaking to DeepMind and Google developer...</td>\n",
       "    </tr>\n",
       "    <tr>\n",
       "      <th>2</th>\n",
       "      <td>How a weapon against war became a weapon...</td>\n",
       "      <td>14088</td>\n",
       "      <td>International visitors for the event are commo...</td>\n",
       "    </tr>\n",
       "    <tr>\n",
       "      <th>3</th>\n",
       "      <td>Genius quietly laid off a bunch of its e...</td>\n",
       "      <td>12170</td>\n",
       "      <td>In a post on the Genius blog at the time, co-f...</td>\n",
       "    </tr>\n",
       "    <tr>\n",
       "      <th>4</th>\n",
       "      <td>Inside the test flight of Facebook’s fir...</td>\n",
       "      <td>11967</td>\n",
       "      <td>But if your goal is to stay in the air for a l...</td>\n",
       "    </tr>\n",
       "  </tbody>\n",
       "</table>\n",
       "</div>"
      ],
      "text/plain": [
       "                                             content  len_article  \\\n",
       "0        And never more so than in Showtime’s new...        12219   \n",
       "1        AlphaGo’s victory isn’t a defeat for hum...        11068   \n",
       "2        How a weapon against war became a weapon...        14088   \n",
       "3        Genius quietly laid off a bunch of its e...        12170   \n",
       "4        Inside the test flight of Facebook’s fir...        11967   \n",
       "\n",
       "                                      gensim_summary  \n",
       "0  In the second season finale, back in 1991, the...  \n",
       "1  When speaking to DeepMind and Google developer...  \n",
       "2  International visitors for the event are commo...  \n",
       "3  In a post on the Genius blog at the time, co-f...  \n",
       "4  But if your goal is to stay in the air for a l...  "
      ]
     },
     "execution_count": 11,
     "metadata": {},
     "output_type": "execute_result"
    }
   ],
   "source": [
    "df.head()"
   ]
  },
  {
   "cell_type": "code",
   "execution_count": 12,
   "metadata": {},
   "outputs": [],
   "source": [
    "def create_soup(url):\n",
    "    facts = requests.get(url)\n",
    "    soup = BeautifulSoup(facts.content, 'html.parser')\n",
    "    return soup"
   ]
  },
  {
   "cell_type": "code",
   "execution_count": 128,
   "metadata": {},
   "outputs": [],
   "source": [
    "def get_article_text():\n",
    "    url = input('Enter a url: \\n')\n",
    "    soup = create_soup(url)\n",
    "    \n",
    "    text = []\n",
    "    for i in soup.find_all('p'):\n",
    "        text.append(i.get_text())\n",
    "        \n",
    "    full_text = '. '.join(text).replace('\\xa0', '')\n",
    "    word_count_ = full_text.count(' ')\n",
    "    gensim_summary = summarize(full_text, word_count = word_count_/10).strip('. ').replace('.\\n', '')\n",
    "    \n",
    "    print('\\n Full Text:\\n', full_text, '\\n\\n')\n",
    "    print('Extractive Summary: \\n', gensim_summary)"
   ]
  },
  {
   "cell_type": "code",
   "execution_count": 129,
   "metadata": {},
   "outputs": [
    {
     "name": "stdout",
     "output_type": "stream",
     "text": [
      "Enter a url: \n",
      "https://www.yahoo.com/news/dominican-republic-hotel-says-del-164734854.html\n",
      "\n",
      " Full Text:\n",
      " A Dominican Republic hotel has fought back against a woman's accusations that it did not promptly take care of her in the aftermath of an alleged attack by claiming that she requested $2.2 million in compensation prior to going public with her now-viral story.. A representative from the Majestic Elegance Hotel in Punta Cana reached out to AOL on Wednesdayin an attempt to set the record straight on an incident involvingTammy Lawrence-Daley, who accused the hotel of handlingherinjuries irresponsibly. In a press release, the hotel said it took the proper steps to take care of thevictim andaccused her of trying to make money off the attack.. \"Majestic Resorts paid for all hospital expenses and offered Mrs. Lawrence, her husband and her fellow travelers a complimentary extension of their stay at the hotel for all the time necessary to recover and arrange their departure from the country,\" the release read.. That, however, wasn't enough for Lawrence-Daley, the hotel said.. \"Majestic indicates that Mrs. Lawrence formally demanded a $ 2.2 million compensation agreement,\" the release continued.\"After receiving no positive response, she disclosed her version of the case, 4 months after it happened.\". Last week, the Delawarewomanwent public on Facebook with her account of an attack in January that allegedly left her fighting for her life. According to Lawrence-Daley, she stepped out of her hotel room one night to grab a snack when a man wearing a shirt with the resort's logo suddenly struck her.. \"I took about 10 or so steps just swinging my wristlet back and forth, not a care in the world,\" she said. \"That's when I heard it. Heavy footsteps ... one, two, three, four, then they sped up, and then before I could react I was plowed into from behind and immediately immobilized. His arms wrapped around me and he started pulling me immediately into an unlocked maintenance room ...\". The following eight hours were full of \"pain and fear\" as the attacker assaulted her repeatedly, Lawrence-Daley said.. \"My lifeless body was drug down concrete stairs to an underground waste water area,\" she recalled. \"I was kicked in the head, I was beaten with a club. And then strangled again for the kill; at which time he disposed of my body into an area I refer to as the ‘hole’. I was unconscious multiple times during this savage attack, so I have no idea what else was done to me during that time.\". Lawrence-Daley said Majestic Elegance refused to take responsibility for the attack and was delayed in its search for her.. \"My husband and friends went to the front desk at least 3 times throughout the night before security even agreed to look for me,\" she wrote. \"This consisted of them taking a quad to the beach and looking on the beach. The security at Majestic Elegance thought I was drunk somewhere. I went missing at 10:30 and was found over 8 hrs later. It was hell.\". The woman also claimed that the resort did not offer to reimburse her for her stay and subsequent medical expenses.. Majestic Elegance, along with authorities in the Dominican Republic,hassince pointed outholes in Lawrence-Daley's recollectionof the attackand put forth its own version.. \"She had bruises on her face and had broken the nail on her little finger,\" the resort release said. \"She had no scratches or other signs of violence on her body and still had her purse and cell phone with her, after which the local police were informed and soon arrived at the scene.\". The hotel further suggested that Lawrence-Daley's work experience may have something to do with her demand for compensation.. \"Lawrence-Daley is a professional of the insurance industry in the United States and has held executive positions in this sector, according to her resume published online,\" its release made sure to note.. The investigation into the alleged attack is ongoing. \n",
      "\n",
      "\n",
      "Extractive Summary: \n",
      " \"Majestic Resorts paid for all hospital expenses and offered Mrs. Lawrence, her husband and her fellow travelers a complimentary extension of their stay at the hotel for all the time necessary to recover and arrange their departure from the country,\" the release read.Lawrence-Daley said Majestic Elegance refused to take responsibility for the attack and was delayed in its search for her\n"
     ]
    }
   ],
   "source": [
    "get_article_text()\n",
    "\n"
   ]
  },
  {
   "cell_type": "code",
   "execution_count": null,
   "metadata": {},
   "outputs": [],
   "source": []
  },
  {
   "cell_type": "code",
   "execution_count": null,
   "metadata": {},
   "outputs": [],
   "source": []
  },
  {
   "cell_type": "code",
   "execution_count": null,
   "metadata": {},
   "outputs": [],
   "source": []
  }
 ],
 "metadata": {
  "kernelspec": {
   "display_name": "Python 3",
   "language": "python",
   "name": "python3"
  },
  "language_info": {
   "codemirror_mode": {
    "name": "ipython",
    "version": 3
   },
   "file_extension": ".py",
   "mimetype": "text/x-python",
   "name": "python",
   "nbconvert_exporter": "python",
   "pygments_lexer": "ipython3",
   "version": "3.7.2"
  }
 },
 "nbformat": 4,
 "nbformat_minor": 2
}
