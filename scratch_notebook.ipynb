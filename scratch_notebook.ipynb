{
 "cells": [
  {
   "cell_type": "markdown",
   "metadata": {},
   "source": [
    "<h1>Clustering (MESSY)"
   ]
  },
  {
   "cell_type": "code",
   "execution_count": null,
   "metadata": {},
   "outputs": [],
   "source": [
    "from sklearn.feature_extraction.text import TfidfVectorizer\n",
    "from sklearn.cluster import KMeans\n",
    "from sklearn.metrics import adjusted_rand_score\n",
    "\n",
    "titles = df.title.tolist()\n",
    "summaries = df.gensim_summary.tolist()\n",
    "\n",
    "vectorizer = TfidfVectorizer(stop_words='english')\n",
    "X = vectorizer.fit_transform(summaries)\n",
    "\n",
    "\n",
    "\n",
    "true_k = 4\n",
    "model = KMeans(n_clusters=true_k, init='k-means++', max_iter=100, n_init=1)\n",
    "model.fit(X)\n",
    "\n",
    "\n",
    "pred_clusters = model.predict(X)\n",
    "\n",
    "order_centroids = model.cluster_centers_.argsort()[:, ::-1]\n",
    "#plt.scatter(X[:, 0], X[:, 1], c=pred_clusters, s=10)\n",
    "terms = vectorizer.get_feature_names()\n",
    "plt.scatter(order_centroids[:, 0], order_centroids[:, 1], c='black', s=70)\n",
    "\n",
    "import ast\n",
    "\n",
    "len(ast.literal_eval(test))"
   ]
  },
  {
   "cell_type": "code",
   "execution_count": null,
   "metadata": {},
   "outputs": [],
   "source": [
    "def cluster_article_sents(sentences):\n",
    "    #tune function for edge cases\n",
    "    if type(sentences) == str:\n",
    "        #if text is a list within a string:\n",
    "        if sentences[0] == '[':\n",
    "            #perform literal eval of string (take off the quotes and keep the list)\n",
    "            document = ast.literal_eval(sentences)\n",
    "            print('literal eval')\n",
    "        else:\n",
    "            #if raw text, tokenize the sentences\n",
    "            document = sent_tokenize(sentences, language = 'en')\n",
    "            print('raw text')\n",
    "    else:\n",
    "        document = sentences\n",
    "        print('already tokenize')\n",
    "    print(document[:10])\n",
    "    print(len(document))\n",
    "    \n",
    "    #vectorize sentences of the document\n",
    "    vectorizer = TfidfVectorizer(stop_words='english')\n",
    "    X = vectorizer.fit_transform(document)\n",
    "    \n",
    "    #cluster sentences within document\n",
    "    k = int(np.floor(len(document)**.5))\n",
    "    print(k)\n",
    "    model = KMeans(n_clusters = k, random_state = 0) #, init = 'k-means++', max_iter = 100, n_init = 1)\n",
    "    \n",
    "    #fit model to document\n",
    "    model.fit(X)\n",
    "   \n",
    "    #create empty lists to hold ################\n",
    "    avg = []\n",
    "    closest = []\n",
    "    \n",
    "    for i in range(k):\n",
    "        idx = np.where(model.labels_ == i)[0]\n",
    "        print(idx)\n",
    "        avg.append(np.mean(idx))\n",
    "    print(avg)\n",
    "    print(model.cluster_centers_)\n",
    "    #closest, _ = pairwise_distances_argmin_min(model.cluster_centers_, !!!!)\n",
    "\n",
    "    \n",
    "    \n",
    "    #plotting\n",
    "    centers = model.cluster_centers_ #.argsort()[:, ::-1]\n",
    "    #plt.scatter(X[:, 0], X[:, 1], c = X, s=10)\n",
    "    terms = vectorizer.get_feature_names()\n",
    "    plt.scatter(centers[:, 0], centers[:, 1], c='black', s=70)"
   ]
  },
  {
   "cell_type": "code",
   "execution_count": null,
   "metadata": {},
   "outputs": [],
   "source": [
    "test = df.sent_tokenized[2]\n",
    "len(ast.literal_eval(test))"
   ]
  },
  {
   "cell_type": "code",
   "execution_count": null,
   "metadata": {},
   "outputs": [],
   "source": [
    "sample = ['this is one sentence.', 'this is a second sentence.', 'this is a third.']"
   ]
  },
  {
   "cell_type": "code",
   "execution_count": null,
   "metadata": {},
   "outputs": [],
   "source": [
    "cluster_article_sents(test)"
   ]
  },
  {
   "cell_type": "code",
   "execution_count": null,
   "metadata": {},
   "outputs": [],
   "source": []
  }
 ],
 "metadata": {
  "kernelspec": {
   "display_name": "Python 3",
   "language": "python",
   "name": "python3"
  },
  "language_info": {
   "codemirror_mode": {
    "name": "ipython",
    "version": 3
   },
   "file_extension": ".py",
   "mimetype": "text/x-python",
   "name": "python",
   "nbconvert_exporter": "python",
   "pygments_lexer": "ipython3",
   "version": "3.7.2"
  }
 },
 "nbformat": 4,
 "nbformat_minor": 2
}
