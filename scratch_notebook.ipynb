{
 "cells": [
  {
   "cell_type": "markdown",
   "metadata": {},
   "source": [
    "<h1>Clustering (MESSY)"
   ]
  },
  {
   "cell_type": "code",
   "execution_count": null,
   "metadata": {},
   "outputs": [],
   "source": [
    "from sklearn.feature_extraction.text import TfidfVectorizer\n",
    "from sklearn.cluster import KMeans\n",
    "from sklearn.metrics import adjusted_rand_score\n",
    "\n",
    "titles = df.title.tolist()\n",
    "summaries = df.gensim_summary.tolist()\n",
    "\n",
    "vectorizer = TfidfVectorizer(stop_words='english')\n",
    "X = vectorizer.fit_transform(summaries)\n",
    "\n",
    "\n",
    "\n",
    "true_k = 4\n",
    "model = KMeans(n_clusters=true_k, init='k-means++', max_iter=100, n_init=1)\n",
    "model.fit(X)\n",
    "\n",
    "\n",
    "pred_clusters = model.predict(X)\n",
    "\n",
    "order_centroids = model.cluster_centers_.argsort()[:, ::-1]\n",
    "#plt.scatter(X[:, 0], X[:, 1], c=pred_clusters, s=10)\n",
    "terms = vectorizer.get_feature_names()\n",
    "plt.scatter(order_centroids[:, 0], order_centroids[:, 1], c='black', s=70)\n",
    "\n",
    "import ast\n",
    "\n",
    "len(ast.literal_eval(test))"
   ]
  },
  {
   "cell_type": "code",
   "execution_count": null,
   "metadata": {},
   "outputs": [],
   "source": [
    "def cluster_article_sents(sentences):\n",
    "    #tune function for edge cases\n",
    "    if type(sentences) == str:\n",
    "        #if text is a list within a string:\n",
    "        if sentences[0] == '[':\n",
    "            #perform literal eval of string (take off the quotes and keep the list)\n",
    "            document = ast.literal_eval(sentences)\n",
    "            print('literal eval')\n",
    "        else:\n",
    "            #if raw text, tokenize the sentences\n",
    "            document = sent_tokenize(sentences, language = 'en')\n",
    "            print('raw text')\n",
    "    else:\n",
    "        document = sentences\n",
    "        print('already tokenize')\n",
    "    print(document[:10])\n",
    "    print(len(document))\n",
    "    \n",
    "    #vectorize sentences of the document\n",
    "    vectorizer = TfidfVectorizer(stop_words='english')\n",
    "    X = vectorizer.fit_transform(document)\n",
    "    \n",
    "    #cluster sentences within document\n",
    "    k = int(np.floor(len(document)**.5))\n",
    "    print(k)\n",
    "    model = KMeans(n_clusters = k, random_state = 0) #, init = 'k-means++', max_iter = 100, n_init = 1)\n",
    "    \n",
    "    #fit model to document\n",
    "    model.fit(X)\n",
    "   \n",
    "    #create empty lists to hold ################\n",
    "    avg = []\n",
    "    closest = []\n",
    "    \n",
    "    for i in range(k):\n",
    "        idx = np.where(model.labels_ == i)[0]\n",
    "        print(idx)\n",
    "        avg.append(np.mean(idx))\n",
    "    print(avg)\n",
    "    print(model.cluster_centers_)\n",
    "    #closest, _ = pairwise_distances_argmin_min(model.cluster_centers_, !!!!)\n",
    "\n",
    "    \n",
    "    \n",
    "    #plotting\n",
    "    centers = model.cluster_centers_ #.argsort()[:, ::-1]\n",
    "    #plt.scatter(X[:, 0], X[:, 1], c = X, s=10)\n",
    "    terms = vectorizer.get_feature_names()\n",
    "    plt.scatter(centers[:, 0], centers[:, 1], c='black', s=70)"
   ]
  },
  {
   "cell_type": "code",
   "execution_count": null,
   "metadata": {},
   "outputs": [],
   "source": [
    "test = df.sent_tokenized[2]\n",
    "len(ast.literal_eval(test))"
   ]
  },
  {
   "cell_type": "code",
   "execution_count": null,
   "metadata": {},
   "outputs": [],
   "source": [
    "sample = ['this is one sentence.', 'this is a second sentence.', 'this is a third.']"
   ]
  },
  {
   "cell_type": "code",
   "execution_count": null,
   "metadata": {},
   "outputs": [],
   "source": [
    "cluster_article_sents(test)"
   ]
  },
  {
   "cell_type": "markdown",
   "metadata": {},
   "source": [
    "<h1> LDA"
   ]
  },
  {
   "cell_type": "code",
   "execution_count": null,
   "metadata": {},
   "outputs": [],
   "source": [
    "vectorizer = CountVectorizer(analyzer='word',       \n",
    "                             min_df=3,                        # minimum reqd occurences of a word \n",
    "                             stop_words= stops,             # remove stop words\n",
    "                             #token_pattern='[a-zA-Z0-9]{3,}',  # num chars > 3\n",
    "                             # max_features=50000,             # max number of uniq words\n",
    "                            )\n",
    "\n",
    "data_vectorized = vectorizer.fit_transform(df['lemmatize_first_100'])\n",
    "\n",
    "#materialize the sparse data\n",
    "data_dense = data_vectorized.todense()\n",
    "\n",
    "#compute Sparsicity = Percentage of Non-Zero cells\n",
    "print(\"Sparsicity: \", ((data_dense > 0).sum()/data_dense.size)*100, \"%\")\n",
    "\n",
    "# Build LDA Model\n",
    "lda_model = LatentDirichletAllocation(n_topics=20,               # Number of topics\n",
    "                                      max_iter=10,               # Max learning iterations\n",
    "                                      learning_method='online',   \n",
    "                                      random_state=100,          # Random state\n",
    "                                      batch_size=128,            # n docs in each learning iter\n",
    "                                      evaluate_every = -1,       # compute perplexity every n iters, default: Don't\n",
    "                                      n_jobs = -1,               # Use all available CPUs\n",
    "                                     )\n",
    "\n",
    "lda_output = lda_model.fit_transform(data_vectorized)\n",
    "\n",
    "print(lda_model)  # Model attributes\n",
    "\n",
    "# Log Likelyhood: Higher the better\n",
    "print(\"Log Likelihood: \", lda_model.score(data_vectorized))\n",
    "\n",
    "# Perplexity: Lower the better. Perplexity = exp(-1. * log-likelihood per word)\n",
    "print(\"Perplexity: \", lda_model.perplexity(data_vectorized))\n",
    "\n",
    "# See model parameters\n",
    "pprint(lda_model.get_params())\n",
    "\n",
    "def show_topics(vectorizer, lda_model, n_words=10):\n",
    "    keywords = np.array(vectorizer.get_feature_names())\n",
    "    topic_keywords = []\n",
    "    for topic_weights in lda_model.components_:\n",
    "        top_keyword_locs = (-topic_weights).argsort()[:n_words]\n",
    "        topic_keywords.append(keywords.take(top_keyword_locs))\n",
    "    return topic_keywords\n",
    "\n",
    "df.lemmatize_first_100[0]\n",
    "\n",
    "show_topics(vectorizer, lda_model, n_words=5)"
   ]
  }
 ],
 "metadata": {
  "kernelspec": {
   "display_name": "Python 3",
   "language": "python",
   "name": "python3"
  },
  "language_info": {
   "codemirror_mode": {
    "name": "ipython",
    "version": 3
   },
   "file_extension": ".py",
   "mimetype": "text/x-python",
   "name": "python",
   "nbconvert_exporter": "python",
   "pygments_lexer": "ipython3",
   "version": "3.7.2"
  }
 },
 "nbformat": 4,
 "nbformat_minor": 2
}
